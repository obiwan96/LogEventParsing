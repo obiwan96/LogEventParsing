{
 "cells": [
  {
   "cell_type": "code",
   "execution_count": 1,
   "metadata": {},
   "outputs": [],
   "source": [
    "from log_parser_lib import *\n",
    "import os\n",
    "import pickle as pkl\n",
    "import torch\n",
    "from torch import nn\n",
    "import torch.nn.functional as F\n",
    "from torch.utils.data import TensorDataset, DataLoader\n",
    "from numpy import log as ln\n",
    "from math import log, sqrt\n",
    "import matplotlib.pyplot as plt\n",
    "import pandas as pd\n",
    "import seaborn as sns"
   ]
  },
  {
   "cell_type": "code",
   "execution_count": 2,
   "metadata": {},
   "outputs": [
    {
     "name": "stdout",
     "output_type": "stream",
     "text": [
      "event num is 50\n",
      "18 of normal data readed\n"
     ]
    }
   ],
   "source": [
    "with open('data.pkl','rb') as f:\n",
    "    data=pkl.load(f)\n",
    "(log_dict, synant_dict, log_patterns,event_list),(Q, sigma, delta, initialState, F_) = data\n",
    "print(f'event num is {len(event_list)}')\n",
    "\n",
    "normal_log_path='../log_dpnm_tb'\n",
    "log_data=[]\n",
    "norm_num=0\n",
    "date_list=os.listdir(normal_log_path)\n",
    "for date in date_list:\n",
    "    if os.path.isfile(normal_log_path+'/'+date):\n",
    "        continue\n",
    "    log_=read_file(normal_log_path+'/'+date+'/all.log')\n",
    "    if log_:\n",
    "        log_data.append(log_)\n",
    "        norm_num+=1\n",
    "print(f'{norm_num} of normal data readed')\n",
    "assert(norm_num==len(log_data))"
   ]
  },
  {
   "cell_type": "code",
   "execution_count": 3,
   "metadata": {},
   "outputs": [
    {
     "name": "stdout",
     "output_type": "stream",
     "text": [
      "tf-idf of all patterns are calculated\n",
      "averagae of tf-idf is 3.7691722434651798 and std is 0.930486217343459, max is 4.754632437814264, min is 1.531177401912\n",
      "average of tf is 8.26465304446208 and std is 9.241679855628224 and max is 11.61209636441463 and min is 3.0135075347943983\n",
      "average of idf is 6.6090818453729705 and std is 9.258310665967919 and max is 10.0 and min is 1.1764705882352942\n"
     ]
    }
   ],
   "source": [
    "# add all value in log_patterns dictionary\n",
    "num_all_log=sum(single_log[1] for single_log in log_patterns)\n",
    "num_all_doc=len(log_data)+2\n",
    "\n",
    "# let's calcurate tf-idf of all patterns\n",
    "tf_idf=[0 for _ in range(len(log_patterns))]\n",
    "for single_file_data in log_data:\n",
    "    tmp_df=[False for _ in range(len(log_patterns))]\n",
    "    for single_log in single_file_data:\n",
    "        single_pattern=log_parser(single_log, log_dict)\n",
    "        if single_pattern==[]:continue\n",
    "        tmp_df[find_pattern_num(single_pattern,log_patterns)-1]=True\n",
    "    for i in range(len(tmp_df)):\n",
    "        if tmp_df[i]:\n",
    "            tf_idf[i]+=1\n",
    "df=tf_idf[:]\n",
    "tf=[]\n",
    "idf=[]\n",
    "for i in range(len(tf_idf)):\n",
    "    tf.append(ln(num_all_log/(1+log_patterns[i][1])))\n",
    "    idf.append(num_all_doc/(1+tf_idf[i]))\n",
    "    tf_idf[i]=ln(tf[i]*idf[i])\n",
    "print(f'tf-idf of all patterns are calculated')\n",
    "print(f'averagae of tf-idf is {sum(tf_idf)/len(tf_idf)} and std is {sum((tf_idf[i]-sum(tf_idf)/len(tf_idf))**2 for i in range(len(tf_idf)))/len(tf_idf)}, max is {max(tf_idf)}, min is {min(tf_idf)}')\n",
    "print(f'average of tf is {sum(tf)/len(tf)} and std is {sum((tf[i]-sum(tf)/len(tf))**2 for i in range(len(tf)))/len(tf)} and max is {max(tf)} and min is {min(tf)}')\n",
    "print(f'average of idf is {sum(idf)/len(idf)} and std is {sum((idf[i]-sum(idf)/len(idf))**2 for i in range(len(idf)))/len(idf)} and max is {max(idf)} and min is {min(idf)}')"
   ]
  },
  {
   "cell_type": "code",
   "execution_count": 26,
   "metadata": {},
   "outputs": [
    {
     "data": {
      "text/plain": [
       "[('root', 'cmd', 'newsyslog', '[number]'),\n",
       " ('root', 'cmd', '[path]'),\n",
       " ('root', 'cmd', 'adjkerntz', 'a'),\n",
       " ('nsswitch',\n",
       "  'nsdispatch',\n",
       "  'vrf',\n",
       "  'hosts',\n",
       "  'getaddrinfo',\n",
       "  'not',\n",
       "  'found',\n",
       "  'and',\n",
       "  'no',\n",
       "  'fallback',\n",
       "  'provided'),\n",
       " ('nsswitch',\n",
       "  'nsdispatch',\n",
       "  'vrf',\n",
       "  'hosts',\n",
       "  'gethostbyaddr',\n",
       "  'r',\n",
       "  'not',\n",
       "  'found',\n",
       "  'and',\n",
       "  'no',\n",
       "  'fallback',\n",
       "  'provided'),\n",
       " ('connection', 'from'),\n",
       " ('bl',\n",
       "  'init',\n",
       "  'connect',\n",
       "  'failed',\n",
       "  'for',\n",
       "  '[path]',\n",
       "  'sock',\n",
       "  'no',\n",
       "  'such',\n",
       "  'file',\n",
       "  'or',\n",
       "  'directory'),\n",
       " ('anonymous', 'ftp', 'login', 'refused', 'from'),\n",
       " ('pam', 'sm', 'authenticate', 'debug', 'pam', 'user', 'www'),\n",
       " ('pam',\n",
       "  'sm',\n",
       "  'authenticate',\n",
       "  'debug',\n",
       "  'updating',\n",
       "  'lock',\n",
       "  'attempts',\n",
       "  'of',\n",
       "  'user',\n",
       "  'www',\n",
       "  'attempts'),\n",
       " ('ftp', 'login', 'failed', 'from'),\n",
       " ('ftp', 'login', 'failed', 'from', 'www'),\n",
       " ('pam', 'sm', 'authenticate', 'debug', 'pam', 'user', 'admin'),\n",
       " ('pam',\n",
       "  'sm',\n",
       "  'authenticate',\n",
       "  'debug',\n",
       "  'updating',\n",
       "  'lock',\n",
       "  'attempts',\n",
       "  'of',\n",
       "  'user',\n",
       "  'admin',\n",
       "  'attempts'),\n",
       " ('ftp', 'login', 'failed', 'from', 'admin'),\n",
       " ('pam', 'sm', 'authenticate', 'debug', 'pam', 'user', 'root'),\n",
       " ('pam',\n",
       "  'sm',\n",
       "  'authenticate',\n",
       "  'debug',\n",
       "  'updating',\n",
       "  'lock',\n",
       "  'attempts',\n",
       "  'of',\n",
       "  'user',\n",
       "  'root',\n",
       "  'attempts'),\n",
       " ('ftp', 'login', 'failed', 'from', 'root'),\n",
       " ('pam', 'sm', 'authenticate', 'debug', 'pam', 'user', 'db'),\n",
       " ('pam',\n",
       "  'sm',\n",
       "  'authenticate',\n",
       "  'debug',\n",
       "  'updating',\n",
       "  'lock',\n",
       "  'attempts',\n",
       "  'of',\n",
       "  'user',\n",
       "  'db',\n",
       "  'attempts'),\n",
       " ('ftp', 'login', 'failed', 'from', 'db'),\n",
       " ('pam', 'sm', 'authenticate', 'debug', 'pam', 'user', 'wwwroot'),\n",
       " ('pam',\n",
       "  'sm',\n",
       "  'authenticate',\n",
       "  'debug',\n",
       "  'updating',\n",
       "  'lock',\n",
       "  'attempts',\n",
       "  'of',\n",
       "  'user',\n",
       "  'wwwroot',\n",
       "  'attempts'),\n",
       " ('ftp', 'login', 'failed', 'from', 'wwwroot'),\n",
       " ('pam', 'sm', 'authenticate', 'debug', 'pam', 'user', 'data'),\n",
       " ('pam',\n",
       "  'sm',\n",
       "  'authenticate',\n",
       "  'debug',\n",
       "  'updating',\n",
       "  'lock',\n",
       "  'attempts',\n",
       "  'of',\n",
       "  'user',\n",
       "  'data',\n",
       "  'attempts'),\n",
       " ('ftp', 'login', 'failed', 'from', 'data'),\n",
       " ('pam', 'sm', 'authenticate', 'debug', 'pam', 'user', 'web'),\n",
       " ('pam',\n",
       "  'sm',\n",
       "  'authenticate',\n",
       "  'debug',\n",
       "  'updating',\n",
       "  'lock',\n",
       "  'attempts',\n",
       "  'of',\n",
       "  'user',\n",
       "  'web',\n",
       "  'attempts'),\n",
       " ('ftp', 'login', 'failed', 'from', 'web'),\n",
       " ('pam', 'sm', 'authenticate', 'debug', 'pam', 'user', 'administrator'),\n",
       " ('pam',\n",
       "  'sm',\n",
       "  'authenticate',\n",
       "  'debug',\n",
       "  'updating',\n",
       "  'lock',\n",
       "  'attempts',\n",
       "  'of',\n",
       "  'user',\n",
       "  'administrator',\n",
       "  'attempts'),\n",
       " ('ftp', 'login', 'failed', 'from', 'administrator'),\n",
       " ('pam', 'sm', 'authenticate', 'debug', 'pam', 'user', 'user'),\n",
       " ('pam',\n",
       "  'sm',\n",
       "  'authenticate',\n",
       "  'debug',\n",
       "  'updating',\n",
       "  'lock',\n",
       "  'attempts',\n",
       "  'of',\n",
       "  'user',\n",
       "  'user',\n",
       "  'attempts'),\n",
       " ('ftp', 'login', 'failed', 'from', 'user'),\n",
       " ('root', 'cmd', '[path]', 'support', 'l'),\n",
       " ('[path]', 'exited', 'status'),\n",
       " ('chassisd', 'sigchld', 'handler', 'pid'),\n",
       " ('connection', 'closed', 'by', 'port'),\n",
       " ('connection', 'closed', 'by', 'port', 'preauth'),\n",
       " ('did', 'not', 'receive', 'identification', 'string', 'from'),\n",
       " ('ttloop', 'peer', 'died', 'no', 'error'),\n",
       " ('connection', 'reset', 'by', 'port'),\n",
       " ('connection', 'reset', 'by', 'port', 'preauth'),\n",
       " ('pam', 'sm', 'authenticate', 'debug', 'pam', 'user', 'dpnm'),\n",
       " ('pam',\n",
       "  'sm',\n",
       "  'authenticate',\n",
       "  'debug',\n",
       "  'updating',\n",
       "  'lock',\n",
       "  'attempts',\n",
       "  'of',\n",
       "  'user',\n",
       "  'dpnm',\n",
       "  'attempts'),\n",
       " ('error', 'pam', 'authentication', 'error', 'for', 'dpnm', 'from'),\n",
       " ('sshd',\n",
       "  'login',\n",
       "  'failed',\n",
       "  'login',\n",
       "  'failed',\n",
       "  'for',\n",
       "  'user',\n",
       "  'dpnm',\n",
       "  'from',\n",
       "  'host'),\n",
       " ('sshd', 'real', 'pid', 'converted', 'as'),\n",
       " ('creating', 'file', '[path]', 'env'),\n",
       " ('pam', 'sm', 'acct', 'mgmt', 'debug', 'pam', 'user', 'root'),\n",
       " ('accepted', '[UNK]', 'for', 'root', 'from', 'port', 'ssh'),\n",
       " ('check', 'regex', 'add', 'regex', 'add'),\n",
       " ('ui',\n",
       "  'auth',\n",
       "  'event',\n",
       "  'authenticated',\n",
       "  'user',\n",
       "  'root',\n",
       "  'at',\n",
       "  'permission',\n",
       "  'level',\n",
       "  'super',\n",
       "  'user'),\n",
       " ('ui',\n",
       "  'login',\n",
       "  'event',\n",
       "  'user',\n",
       "  'root',\n",
       "  'login',\n",
       "  'class',\n",
       "  'super',\n",
       "  'user',\n",
       "  'ssh',\n",
       "  'connection',\n",
       "  'client',\n",
       "  'mode',\n",
       "  'cli'),\n",
       " ('pvidb',\n",
       "  'attribute',\n",
       "  'platform',\n",
       "  're',\n",
       "  'cmd',\n",
       "  'redirect',\n",
       "  'to',\n",
       "  'fpc',\n",
       "  'not',\n",
       "  'present',\n",
       "  'in',\n",
       "  'db'),\n",
       " ('ge', '[path]', 'promiscuous', 'mode', 'enabled'),\n",
       " ('ui',\n",
       "  'cmdline',\n",
       "  'read',\n",
       "  'line',\n",
       "  'user',\n",
       "  'root',\n",
       "  'command',\n",
       "  'monitor',\n",
       "  'traffic'),\n",
       " ('an', 'mgmt', 'switch', 'last', 'message', 'repeated', 'times'),\n",
       " ('ge', '[path]', 'promiscuous', 'mode', 'disabled'),\n",
       " ('ui',\n",
       "  'cmdline',\n",
       "  'read',\n",
       "  'line',\n",
       "  'user',\n",
       "  'root',\n",
       "  'command',\n",
       "  'monitor',\n",
       "  'traffic',\n",
       "  '[UNK]'),\n",
       " ('ui',\n",
       "  'cmdline',\n",
       "  'read',\n",
       "  'line',\n",
       "  'user',\n",
       "  'root',\n",
       "  'command',\n",
       "  'show',\n",
       "  'system',\n",
       "  'statistics'),\n",
       " ('ui',\n",
       "  'cmdline',\n",
       "  'read',\n",
       "  'line',\n",
       "  'user',\n",
       "  'authentication',\n",
       "  'in',\n",
       "  'progress',\n",
       "  'command',\n",
       "  'rpc',\n",
       "  'command',\n",
       "  'set',\n",
       "  'auth',\n",
       "  'environment',\n",
       "  'user',\n",
       "  'root',\n",
       "  'logname',\n",
       "  'root',\n",
       "  'host',\n",
       "  'mgmt',\n",
       "  'switch',\n",
       "  'agent',\n",
       "  'mgd',\n",
       "  'current',\n",
       "  'directory',\n",
       "  '[path]',\n",
       "  'pid',\n",
       "  'ppid'),\n",
       " ('ui',\n",
       "  'junoscript',\n",
       "  'cmd',\n",
       "  'user',\n",
       "  'authentication',\n",
       "  'in',\n",
       "  'progress',\n",
       "  'used',\n",
       "  'junoscript',\n",
       "  'client',\n",
       "  'to',\n",
       "  'run',\n",
       "  'command',\n",
       "  'request',\n",
       "  'authentication',\n",
       "  'user',\n",
       "  'root',\n",
       "  'logname',\n",
       "  'root',\n",
       "  'host',\n",
       "  'mgmt',\n",
       "  'switch',\n",
       "  'agent',\n",
       "  'mgd',\n",
       "  'current',\n",
       "  'directory',\n",
       "  '[path]',\n",
       "  'pid',\n",
       "  'ppid'),\n",
       " ('ui',\n",
       "  'login',\n",
       "  'event',\n",
       "  'user',\n",
       "  'root',\n",
       "  'login',\n",
       "  'class',\n",
       "  'super',\n",
       "  'user',\n",
       "  'fpc',\n",
       "  'ssh',\n",
       "  'connection',\n",
       "  'client',\n",
       "  'mode',\n",
       "  'junoscript'),\n",
       " ('ui',\n",
       "  'cmdline',\n",
       "  'read',\n",
       "  'line',\n",
       "  'user',\n",
       "  'root',\n",
       "  'command',\n",
       "  'command',\n",
       "  'rpc',\n",
       "  'rpc',\n",
       "  'command',\n",
       "  'show',\n",
       "  'system',\n",
       "  'statistics',\n",
       "  'no',\n",
       "  'forwarding'),\n",
       " ('ui',\n",
       "  'junoscript',\n",
       "  'cmd',\n",
       "  'user',\n",
       "  'root',\n",
       "  'used',\n",
       "  'junoscript',\n",
       "  'client',\n",
       "  'to',\n",
       "  'run',\n",
       "  'command',\n",
       "  'get',\n",
       "  'statistics',\n",
       "  'information'),\n",
       " ('ui', 'child', 'start', 'starting', 'child', '[path]'),\n",
       " ('ui', 'child', 'status', 'cleanup', 'child', '[path]', 'pid', 'status'),\n",
       " ('pvidb',\n",
       "  'attribute',\n",
       "  'platform',\n",
       "  'vpls',\n",
       "  'skip',\n",
       "  'kernel',\n",
       "  'stats',\n",
       "  'not',\n",
       "  'present',\n",
       "  'in',\n",
       "  'db'),\n",
       " ('ui',\n",
       "  'junoscript',\n",
       "  'cmd',\n",
       "  'user',\n",
       "  'root',\n",
       "  'used',\n",
       "  'junoscript',\n",
       "  'client',\n",
       "  'to',\n",
       "  'run',\n",
       "  'command',\n",
       "  'request',\n",
       "  'end',\n",
       "  'session'),\n",
       " ('ui', 'logout', 'event', 'user', 'root', 'logout'),\n",
       " ('accepted', 'password', 'for', 'root', 'from', 'port', 'ssh'),\n",
       " ('ui',\n",
       "  'cmdline',\n",
       "  'read',\n",
       "  'line',\n",
       "  'user',\n",
       "  'root',\n",
       "  'command',\n",
       "  'xml',\n",
       "  'mode',\n",
       "  'netconf',\n",
       "  'need',\n",
       "  'trailer'),\n",
       " ('pvidb',\n",
       "  'attribute',\n",
       "  'ifinfo',\n",
       "  'pad',\n",
       "  'to',\n",
       "  'minimum',\n",
       "  'frame',\n",
       "  'size',\n",
       "  'not',\n",
       "  'present',\n",
       "  'in',\n",
       "  'db'),\n",
       " ('pvidb',\n",
       "  'attribute',\n",
       "  'ifinfo',\n",
       "  'mru',\n",
       "  'support',\n",
       "  'not',\n",
       "  'present',\n",
       "  'in',\n",
       "  'db'),\n",
       " ('pvidb',\n",
       "  'attribute',\n",
       "  'ifinfo',\n",
       "  'interface',\n",
       "  '[interface]',\n",
       "  'not',\n",
       "  'present',\n",
       "  'in',\n",
       "  'db'),\n",
       " ('pvidb',\n",
       "  'attribute',\n",
       "  'ifinfo',\n",
       "  'lsi',\n",
       "  'ifl',\n",
       "  'l',\n",
       "  'output',\n",
       "  'policer',\n",
       "  'not',\n",
       "  'present',\n",
       "  'in',\n",
       "  'db'),\n",
       " ('pvidb',\n",
       "  'attribute',\n",
       "  'ifinfo',\n",
       "  'ifinouterrors',\n",
       "  'stats',\n",
       "  'not',\n",
       "  'present',\n",
       "  'in',\n",
       "  'db'),\n",
       " ('pvidb',\n",
       "  'attribute',\n",
       "  'ifinfo',\n",
       "  'ethernet',\n",
       "  'segment',\n",
       "  'identifier',\n",
       "  'not',\n",
       "  'present',\n",
       "  'in',\n",
       "  'db'),\n",
       " ('pvidb',\n",
       "  'attribute',\n",
       "  'ifinfo',\n",
       "  'evpn',\n",
       "  'multihoming',\n",
       "  'not',\n",
       "  'present',\n",
       "  'in',\n",
       "  'db'),\n",
       " ('pvidb',\n",
       "  'attribute',\n",
       "  'ifinfo',\n",
       "  'forwarding',\n",
       "  'class',\n",
       "  'stats',\n",
       "  'not',\n",
       "  'present',\n",
       "  'in',\n",
       "  'db'),\n",
       " ('pvidb',\n",
       "  'attribute',\n",
       "  'ifinfo',\n",
       "  'queue',\n",
       "  'depth',\n",
       "  'stats',\n",
       "  'not',\n",
       "  'present',\n",
       "  'in',\n",
       "  'db'),\n",
       " ('pvidb',\n",
       "  'attribute',\n",
       "  'ifinfo',\n",
       "  'no',\n",
       "  'rate',\n",
       "  'limit',\n",
       "  'stats',\n",
       "  'not',\n",
       "  'present',\n",
       "  'in',\n",
       "  'db'),\n",
       " ('pvidb',\n",
       "  'attribute',\n",
       "  'ifinfo',\n",
       "  'voq',\n",
       "  'stats',\n",
       "  'not',\n",
       "  'present',\n",
       "  'in',\n",
       "  'db'),\n",
       " ('auto', 'snapshot', 'is', 'configured'),\n",
       " ('ui',\n",
       "  'login',\n",
       "  'event',\n",
       "  'user',\n",
       "  'root',\n",
       "  'login',\n",
       "  'class',\n",
       "  'super',\n",
       "  'user',\n",
       "  'ssh',\n",
       "  'connection',\n",
       "  'client',\n",
       "  'mode',\n",
       "  'netconf'),\n",
       " ('could', 'not', 'send', 'message', 'to', 'eventd'),\n",
       " ('ui',\n",
       "  'cmdline',\n",
       "  'read',\n",
       "  'line',\n",
       "  'user',\n",
       "  'root',\n",
       "  'command',\n",
       "  'hello',\n",
       "  'capabilities',\n",
       "  'capability',\n",
       "  'urn',\n",
       "  'ietf',\n",
       "  'params',\n",
       "  'netconf',\n",
       "  'base',\n",
       "  'capability',\n",
       "  'capability',\n",
       "  'urn',\n",
       "  'ietf',\n",
       "  'params',\n",
       "  'netconf',\n",
       "  'base',\n",
       "  'capability',\n",
       "  'capability',\n",
       "  'urn',\n",
       "  'ietf',\n",
       "  'params',\n",
       "  'netconf',\n",
       "  'capability',\n",
       "  'writable',\n",
       "  'running',\n",
       "  'capability',\n",
       "  'capability',\n",
       "  'urn',\n",
       "  'ietf',\n",
       "  'params',\n",
       "  'netconf',\n",
       "  'capability',\n",
       "  'candidate',\n",
       "  'capability',\n",
       "  'capability',\n",
       "  'urn',\n",
       "  'ietf',\n",
       "  'params',\n",
       "  'netconf',\n",
       "  'capability',\n",
       "  'confirmed',\n",
       "  'commit',\n",
       "  'capability',\n",
       "  'capability',\n",
       "  'urn',\n",
       "  'ietf',\n",
       "  'params',\n",
       "  'netconf',\n",
       "  'capability',\n",
       "  'rollback',\n",
       "  'on',\n",
       "  'error',\n",
       "  'capability',\n",
       "  'capability',\n",
       "  'urn',\n",
       "  'ietf',\n",
       "  'params',\n",
       "  'netconf',\n",
       "  'capability',\n",
       "  'startup',\n",
       "  'capability',\n",
       "  'capability',\n",
       "  'urn',\n",
       "  'ietf',\n",
       "  'params',\n",
       "  'netconf',\n",
       "  'capability',\n",
       "  'url',\n",
       "  'scheme',\n",
       "  'http',\n",
       "  'ftp',\n",
       "  'file',\n",
       "  'https',\n",
       "  'sftp',\n",
       "  'capability',\n",
       "  'capability',\n",
       "  'urn',\n",
       "  'ietf',\n",
       "  'params',\n",
       "  'netconf',\n",
       "  'capability',\n",
       "  'validate',\n",
       "  'capability',\n",
       "  'capability',\n",
       "  'urn',\n",
       "  'ietf',\n",
       "  'params',\n",
       "  'netconf',\n",
       "  'capability',\n",
       "  'xpath',\n",
       "  'capability',\n",
       "  'capability',\n",
       "  'urn',\n",
       "  'ietf',\n",
       "  'params',\n",
       "  'netconf',\n",
       "  'capability',\n",
       "  'notification',\n",
       "  'capability',\n",
       "  'capability',\n",
       "  'urn',\n",
       "  'ietf',\n",
       "  'params',\n",
       "  'netconf',\n",
       "  'capability',\n",
       "  'interleave',\n",
       "  'capability',\n",
       "  'capability',\n",
       "  'urn',\n",
       "  'ietf',\n",
       "  'params',\n",
       "  'netconf',\n",
       "  'capability',\n",
       "  'wi'),\n",
       " ('ui',\n",
       "  'netconf',\n",
       "  'cmd',\n",
       "  'user',\n",
       "  'root',\n",
       "  'used',\n",
       "  'netconf',\n",
       "  'client',\n",
       "  'to',\n",
       "  'run',\n",
       "  'command',\n",
       "  'get',\n",
       "  'route',\n",
       "  'engine',\n",
       "  'information'),\n",
       " ('ui',\n",
       "  'netconf',\n",
       "  'cmd',\n",
       "  'user',\n",
       "  'root',\n",
       "  'used',\n",
       "  'netconf',\n",
       "  'client',\n",
       "  'to',\n",
       "  'run',\n",
       "  'command',\n",
       "  'get',\n",
       "  'interface',\n",
       "  '[interface]',\n",
       "  'level',\n",
       "  'extra',\n",
       "  'terse'),\n",
       " ('ui',\n",
       "  'cmdline',\n",
       "  'read',\n",
       "  'line',\n",
       "  'user',\n",
       "  'root',\n",
       "  'command',\n",
       "  'command',\n",
       "  'rpc',\n",
       "  'rpc',\n",
       "  'get',\n",
       "  'interface',\n",
       "  '[interface]',\n",
       "  'terse',\n",
       "  'get',\n",
       "  'interface',\n",
       "  '[interface]',\n",
       "  'rpc',\n",
       "  'rpc',\n",
       "  'command',\n",
       "  'show',\n",
       "  'system',\n",
       "  'statistics'),\n",
       " ('ui',\n",
       "  'netconf',\n",
       "  'cmd',\n",
       "  'user',\n",
       "  'root',\n",
       "  'used',\n",
       "  'netconf',\n",
       "  'client',\n",
       "  'to',\n",
       "  'run',\n",
       "  'command',\n",
       "  'get',\n",
       "  'statistics',\n",
       "  'information'),\n",
       " ('ifinfo', 'ifd', 'name', 'ifd', 'ge'),\n",
       " ('ifinfo', 'ifd', 'name', 'ifd', 'ge', '[path]'),\n",
       " ('ui',\n",
       "  'cmdline',\n",
       "  'read',\n",
       "  'line',\n",
       "  'user',\n",
       "  'root',\n",
       "  'command',\n",
       "  'monitor',\n",
       "  'interface',\n",
       "  '[interface]',\n",
       "  '[path]'),\n",
       " ('ui',\n",
       "  'cmdline',\n",
       "  'read',\n",
       "  'line',\n",
       "  'user',\n",
       "  'root',\n",
       "  'command',\n",
       "  '[UNK]',\n",
       "  'monitor'),\n",
       " ('ui',\n",
       "  'cmdline',\n",
       "  'read',\n",
       "  'line',\n",
       "  'user',\n",
       "  'root',\n",
       "  'command',\n",
       "  'show',\n",
       "  'log',\n",
       "  '[UNK]'),\n",
       " ('ui', 'cmdline', 'read', 'line', 'user', 'root', 'command', 'show', 'log'),\n",
       " ('ui',\n",
       "  'netconf',\n",
       "  'cmd',\n",
       "  'user',\n",
       "  'root',\n",
       "  'used',\n",
       "  'netconf',\n",
       "  'client',\n",
       "  'to',\n",
       "  'run',\n",
       "  'command',\n",
       "  'get',\n",
       "  'config'),\n",
       " ('ui',\n",
       "  'netconf',\n",
       "  'cmd',\n",
       "  'user',\n",
       "  'root',\n",
       "  'used',\n",
       "  'netconf',\n",
       "  'client',\n",
       "  'to',\n",
       "  'run',\n",
       "  'command',\n",
       "  'close',\n",
       "  'session'),\n",
       " ('version', 'r', 'by', 'builder', 'on', 'utc'),\n",
       " ('utc',),\n",
       " ('snmpd',\n",
       "  'health',\n",
       "  '[date]',\n",
       "  'thresh',\n",
       "  'cross',\n",
       "  'health',\n",
       "  'monitor',\n",
       "  're',\n",
       "  'cpu',\n",
       "  'utilization',\n",
       "  'crossed',\n",
       "  'rising',\n",
       "  'threshold',\n",
       "  'value',\n",
       "  'variable',\n",
       "  'jnxoperatingcpu'),\n",
       " ('snmpd',\n",
       "  'health',\n",
       "  '[date]',\n",
       "  'thresh',\n",
       "  'cross',\n",
       "  'health',\n",
       "  'monitor',\n",
       "  're',\n",
       "  'cpu',\n",
       "  'utilization',\n",
       "  'crossed',\n",
       "  'falling',\n",
       "  'threshold',\n",
       "  'value',\n",
       "  'variable',\n",
       "  'jnxoperatingcpu'),\n",
       " ('[UNK]',\n",
       "  'msg',\n",
       "  'handler',\n",
       "  '[UNK]',\n",
       "  'peer',\n",
       "  'msg',\n",
       "  'handler',\n",
       "  'error',\n",
       "  'for',\n",
       "  'msg',\n",
       "  '[UNK]',\n",
       "  'msg',\n",
       "  '[UNK]',\n",
       "  'and',\n",
       "  'peer',\n",
       "  '[UNK]'),\n",
       " ('system',\n",
       "  'c',\n",
       "  'has',\n",
       "  'returned',\n",
       "  'to',\n",
       "  'normal',\n",
       "  'temperature',\n",
       "  'range',\n",
       "  'c'),\n",
       " ('system', 'c', 'has', 'exceeded', 'normal', 'temperature', 'range', 'c'),\n",
       " ('pam', 'sm', 'authenticate', 'debug', 'pam', 'user', 'test'),\n",
       " ('pam',\n",
       "  'sm',\n",
       "  'authenticate',\n",
       "  'debug',\n",
       "  'updating',\n",
       "  'lock',\n",
       "  'attempts',\n",
       "  'of',\n",
       "  'user',\n",
       "  'test',\n",
       "  'attempts'),\n",
       " ('ftp', 'login', 'failed', 'from', 'test'),\n",
       " ('pam', 'sm', 'authenticate', 'debug', 'pam', 'user', 'www', 'data'),\n",
       " ('pam',\n",
       "  'sm',\n",
       "  'authenticate',\n",
       "  'debug',\n",
       "  'updating',\n",
       "  'lock',\n",
       "  'attempts',\n",
       "  'of',\n",
       "  'user',\n",
       "  'www',\n",
       "  'data',\n",
       "  'attempts'),\n",
       " ('ftp', 'login', 'failed', 'from', 'www', 'data'),\n",
       " ('line',\n",
       "  'protocol',\n",
       "  'on',\n",
       "  'interface',\n",
       "  '[interface]',\n",
       "  'changed',\n",
       "  'state',\n",
       "  'to',\n",
       "  'down'),\n",
       " ('interface', '[interface]', 'changed', 'state', 'to', 'down'),\n",
       " ('line',\n",
       "  'protocol',\n",
       "  'on',\n",
       "  'interface',\n",
       "  '[interface]',\n",
       "  'changed',\n",
       "  'state',\n",
       "  'to',\n",
       "  'up'),\n",
       " ('interface', '[interface]', 'changed', 'state', 'to', 'up'),\n",
       " ('received', 'disconnect', 'from', 'port', 'disconnected', 'by', 'user'),\n",
       " ('disconnected', 'from', 'port'),\n",
       " ('pam', 'sm', 'authenticate', 'debug', 'pam', 'user', 'jwkim'),\n",
       " ('pam',\n",
       "  'sm',\n",
       "  'authenticate',\n",
       "  'debug',\n",
       "  'updating',\n",
       "  'lock',\n",
       "  'attempts',\n",
       "  'of',\n",
       "  'user',\n",
       "  'jwkim',\n",
       "  'attempts'),\n",
       " ('sshd',\n",
       "  'login',\n",
       "  'failed',\n",
       "  'login',\n",
       "  'failed',\n",
       "  'for',\n",
       "  'user',\n",
       "  'jwkim',\n",
       "  'from',\n",
       "  'host'),\n",
       " ('failed', 'password', 'for', 'jwkim', 'from', 'port', 'ssh'),\n",
       " ('received', 'disconnect', 'from', 'port', 'bye', 'bye'),\n",
       " ('received', 'disconnect', 'from', 'port', 'bye', 'bye', 'preauth'),\n",
       " ('disconnected', 'from', 'port', 'preauth'),\n",
       " ('pam', 'sm', 'authenticate', 'debug', 'pam', 'user', 'oraprod'),\n",
       " ('pam',\n",
       "  'sm',\n",
       "  'authenticate',\n",
       "  'debug',\n",
       "  'updating',\n",
       "  'lock',\n",
       "  'attempts',\n",
       "  'of',\n",
       "  'user',\n",
       "  'oraprod',\n",
       "  'attempts'),\n",
       " ('sshd',\n",
       "  'login',\n",
       "  'failed',\n",
       "  'login',\n",
       "  'failed',\n",
       "  'for',\n",
       "  'user',\n",
       "  'oraprod',\n",
       "  'from',\n",
       "  'host'),\n",
       " ('failed', 'password', 'for', 'oraprod', 'from', 'port', 'ssh'),\n",
       " ('failed', 'password', 'for', 'root', 'from', 'port', 'ssh'),\n",
       " ('sshd',\n",
       "  'login',\n",
       "  'failed',\n",
       "  'login',\n",
       "  'failed',\n",
       "  'for',\n",
       "  'user',\n",
       "  'root',\n",
       "  'from',\n",
       "  'host'),\n",
       " ('pam', 'sm', 'authenticate', 'debug', 'pam', 'user', 'odoo'),\n",
       " ('pam',\n",
       "  'sm',\n",
       "  'authenticate',\n",
       "  'debug',\n",
       "  'updating',\n",
       "  'lock',\n",
       "  'attempts',\n",
       "  'of',\n",
       "  'user',\n",
       "  'odoo',\n",
       "  'attempts'),\n",
       " ('sshd',\n",
       "  'login',\n",
       "  'failed',\n",
       "  'login',\n",
       "  'failed',\n",
       "  'for',\n",
       "  'user',\n",
       "  'odoo',\n",
       "  'from',\n",
       "  'host'),\n",
       " ('failed', 'password', 'for', 'odoo', 'from', 'port', 'ssh'),\n",
       " ('pam', 'sm', 'authenticate', 'debug', 'pam', 'user', 'syslog'),\n",
       " ('pam',\n",
       "  'sm',\n",
       "  'authenticate',\n",
       "  'debug',\n",
       "  'updating',\n",
       "  'lock',\n",
       "  'attempts',\n",
       "  'of',\n",
       "  'user',\n",
       "  'syslog',\n",
       "  'attempts'),\n",
       " ('sshd',\n",
       "  'login',\n",
       "  'failed',\n",
       "  'login',\n",
       "  'failed',\n",
       "  'for',\n",
       "  'user',\n",
       "  'syslog',\n",
       "  'from',\n",
       "  'host'),\n",
       " ('failed', 'password', 'for', 'syslog', 'from', 'port', 'ssh'),\n",
       " ('sshd',\n",
       "  'login',\n",
       "  'failed',\n",
       "  'login',\n",
       "  'failed',\n",
       "  'for',\n",
       "  'user',\n",
       "  'user',\n",
       "  'from',\n",
       "  'host'),\n",
       " ('failed', 'password', 'for', 'user', 'from', 'port', 'ssh'),\n",
       " ('pam', 'sm', 'authenticate', 'debug', 'pam', 'user', 'sftpuser'),\n",
       " ('pam',\n",
       "  'sm',\n",
       "  'authenticate',\n",
       "  'debug',\n",
       "  'updating',\n",
       "  'lock',\n",
       "  'attempts',\n",
       "  'of',\n",
       "  'user',\n",
       "  'sftpuser',\n",
       "  'attempts'),\n",
       " ('sshd',\n",
       "  'login',\n",
       "  'failed',\n",
       "  'login',\n",
       "  'failed',\n",
       "  'for',\n",
       "  'user',\n",
       "  'sftpuser',\n",
       "  'from',\n",
       "  'host'),\n",
       " ('failed', 'password', 'for', 'sftpuser', 'from', 'port', 'ssh'),\n",
       " ('pam', 'sm', 'authenticate', 'debug', 'pam', 'user', 'pi'),\n",
       " ('pam',\n",
       "  'sm',\n",
       "  'authenticate',\n",
       "  'debug',\n",
       "  'updating',\n",
       "  'lock',\n",
       "  'attempts',\n",
       "  'of',\n",
       "  'user',\n",
       "  'pi',\n",
       "  'attempts'),\n",
       " ('sshd',\n",
       "  'login',\n",
       "  'failed',\n",
       "  'login',\n",
       "  'failed',\n",
       "  'for',\n",
       "  'user',\n",
       "  'pi',\n",
       "  'from',\n",
       "  'host'),\n",
       " ('failed', 'password', 'for', 'pi', 'from', 'port', 'ssh'),\n",
       " ('pam', 'sm', 'authenticate', 'debug', 'pam', 'user', 'osmc'),\n",
       " ('pam',\n",
       "  'sm',\n",
       "  'authenticate',\n",
       "  'debug',\n",
       "  'updating',\n",
       "  'lock',\n",
       "  'attempts',\n",
       "  'of',\n",
       "  'user',\n",
       "  'osmc',\n",
       "  'attempts'),\n",
       " ('sshd',\n",
       "  'login',\n",
       "  'failed',\n",
       "  'login',\n",
       "  'failed',\n",
       "  'for',\n",
       "  'user',\n",
       "  'osmc',\n",
       "  'from',\n",
       "  'host'),\n",
       " ('failed', 'password', 'for', 'osmc', 'from', 'port', 'ssh'),\n",
       " ('[UNK]', 'set', 'by', 'root'),\n",
       " ('ui',\n",
       "  'child',\n",
       "  'status',\n",
       "  'cleanup',\n",
       "  'child',\n",
       "  '[path]',\n",
       "  'pid',\n",
       "  'status',\n",
       "  '[number]'),\n",
       " ('ui',\n",
       "  'child',\n",
       "  'exited',\n",
       "  'child',\n",
       "  'exited',\n",
       "  'pid',\n",
       "  'status',\n",
       "  'command',\n",
       "  '[path]'),\n",
       " ('ui',\n",
       "  'cmdline',\n",
       "  'read',\n",
       "  'line',\n",
       "  'user',\n",
       "  'root',\n",
       "  'command',\n",
       "  'show',\n",
       "  'system',\n",
       "  'uptime'),\n",
       " ('ui',\n",
       "  'cmdline',\n",
       "  'read',\n",
       "  'line',\n",
       "  'user',\n",
       "  'root',\n",
       "  'command',\n",
       "  'command',\n",
       "  'rpc',\n",
       "  'rpc',\n",
       "  'command',\n",
       "  'show',\n",
       "  'system',\n",
       "  'uptime',\n",
       "  'no',\n",
       "  'forwarding'),\n",
       " ('ui',\n",
       "  'junoscript',\n",
       "  'cmd',\n",
       "  'user',\n",
       "  'root',\n",
       "  'used',\n",
       "  'junoscript',\n",
       "  'client',\n",
       "  'to',\n",
       "  'run',\n",
       "  'command',\n",
       "  'get',\n",
       "  'system',\n",
       "  'uptime',\n",
       "  'information'),\n",
       " ('ui',\n",
       "  'cmdline',\n",
       "  'read',\n",
       "  'line',\n",
       "  'user',\n",
       "  'root',\n",
       "  'command',\n",
       "  'hello',\n",
       "  'capabilities',\n",
       "  'capability',\n",
       "  'urn',\n",
       "  'ietf',\n",
       "  'params',\n",
       "  'netconf',\n",
       "  'base',\n",
       "  'capability',\n",
       "  'capability',\n",
       "  'urn',\n",
       "  'ietf',\n",
       "  'params',\n",
       "  'netconf',\n",
       "  'base',\n",
       "  'capability',\n",
       "  'capability',\n",
       "  'urn',\n",
       "  'ietf',\n",
       "  'params',\n",
       "  'netconf',\n",
       "  'capability',\n",
       "  'writable',\n",
       "  'running',\n",
       "  'capability',\n",
       "  'capability',\n",
       "  'urn',\n",
       "  'ietf',\n",
       "  'params',\n",
       "  'netconf',\n",
       "  'capability',\n",
       "  'candidate',\n",
       "  'capability',\n",
       "  'capability',\n",
       "  'urn',\n",
       "  'ietf',\n",
       "  'params',\n",
       "  'netconf',\n",
       "  'capability',\n",
       "  'confirmed',\n",
       "  'commit',\n",
       "  'capability',\n",
       "  'capability',\n",
       "  'urn',\n",
       "  'ietf',\n",
       "  'params',\n",
       "  'netconf',\n",
       "  'capability',\n",
       "  'rollback',\n",
       "  'on',\n",
       "  'error',\n",
       "  'capability',\n",
       "  'capability',\n",
       "  'urn',\n",
       "  'ietf',\n",
       "  'params',\n",
       "  'netconf',\n",
       "  'capability',\n",
       "  'startup',\n",
       "  'capability',\n",
       "  'capability',\n",
       "  'urn',\n",
       "  'ietf',\n",
       "  'params',\n",
       "  'netconf',\n",
       "  'capability',\n",
       "  'url',\n",
       "  'scheme',\n",
       "  'http',\n",
       "  'ftp',\n",
       "  'file',\n",
       "  'https',\n",
       "  'sftp',\n",
       "  'capability',\n",
       "  'capability',\n",
       "  'urn',\n",
       "  'ietf',\n",
       "  'params',\n",
       "  'netconf',\n",
       "  'capability',\n",
       "  'validate',\n",
       "  'capability',\n",
       "  'capability',\n",
       "  'urn',\n",
       "  'ietf',\n",
       "  'params',\n",
       "  'netconf',\n",
       "  'capability',\n",
       "  'xpath',\n",
       "  'capability',\n",
       "  'capability',\n",
       "  'urn',\n",
       "  'ietf',\n",
       "  'params',\n",
       "  'netconf',\n",
       "  'capability',\n",
       "  'notification',\n",
       "  'capability',\n",
       "  'capability',\n",
       "  'urn',\n",
       "  'ietf',\n",
       "  'params',\n",
       "  'netconf',\n",
       "  'capability',\n",
       "  'interleave',\n",
       "  'capability',\n",
       "  'capability',\n",
       "  'urn',\n",
       "  'ietf',\n",
       "  'params',\n",
       "  'netconf',\n",
       "  'capability',\n",
       "  'with'),\n",
       " ('ui',\n",
       "  'cmdline',\n",
       "  'read',\n",
       "  'line',\n",
       "  'user',\n",
       "  'root',\n",
       "  'command',\n",
       "  'hello',\n",
       "  'capabilities',\n",
       "  'capability',\n",
       "  'urn',\n",
       "  'ietf',\n",
       "  'params',\n",
       "  'netconf',\n",
       "  'base',\n",
       "  'capability',\n",
       "  'capability',\n",
       "  'urn',\n",
       "  'ietf',\n",
       "  'params',\n",
       "  'netconf',\n",
       "  'base',\n",
       "  'capability',\n",
       "  'capability',\n",
       "  'urn',\n",
       "  'ietf',\n",
       "  'params',\n",
       "  'netconf',\n",
       "  'capability',\n",
       "  'writable',\n",
       "  'running',\n",
       "  'capability',\n",
       "  'capability',\n",
       "  'urn',\n",
       "  'ietf',\n",
       "  'params',\n",
       "  'netconf',\n",
       "  'capability',\n",
       "  'candidate',\n",
       "  'capability',\n",
       "  'capability',\n",
       "  'urn',\n",
       "  'ietf',\n",
       "  'params',\n",
       "  'netconf',\n",
       "  'capability',\n",
       "  'confirmed',\n",
       "  'commit',\n",
       "  'capability',\n",
       "  'capability',\n",
       "  'urn',\n",
       "  'ietf',\n",
       "  'params',\n",
       "  'netconf',\n",
       "  'capability',\n",
       "  'rollback',\n",
       "  'on',\n",
       "  'error',\n",
       "  'capability',\n",
       "  'capability',\n",
       "  'urn',\n",
       "  'ietf',\n",
       "  'params',\n",
       "  'netconf',\n",
       "  'capability',\n",
       "  'startup',\n",
       "  'capability',\n",
       "  'capability',\n",
       "  'urn',\n",
       "  'ietf',\n",
       "  'params',\n",
       "  'netconf',\n",
       "  'capability',\n",
       "  'url',\n",
       "  'scheme',\n",
       "  'http',\n",
       "  'ftp',\n",
       "  'file',\n",
       "  'https',\n",
       "  'sftp',\n",
       "  'capability',\n",
       "  'capability',\n",
       "  'urn',\n",
       "  'ietf',\n",
       "  'params',\n",
       "  'netconf',\n",
       "  'capability',\n",
       "  'validate',\n",
       "  'capability',\n",
       "  'capability',\n",
       "  'urn',\n",
       "  'ietf',\n",
       "  'params',\n",
       "  'netconf',\n",
       "  'capability',\n",
       "  'xpath',\n",
       "  'capability',\n",
       "  'capability',\n",
       "  'urn',\n",
       "  'ietf',\n",
       "  'params',\n",
       "  'netconf',\n",
       "  'capability',\n",
       "  'notification',\n",
       "  'capability',\n",
       "  'capability',\n",
       "  'urn',\n",
       "  'ietf',\n",
       "  'params',\n",
       "  'netconf',\n",
       "  'capability',\n",
       "  'interleave',\n",
       "  'capability',\n",
       "  'capability',\n",
       "  'urn',\n",
       "  'ietf',\n",
       "  'params',\n",
       "  'netconf',\n",
       "  'capability',\n",
       "  'wit'),\n",
       " ('not',\n",
       "  '[UNK]',\n",
       "  'on',\n",
       "  '[UNK]',\n",
       "  'to',\n",
       "  '[UNK]',\n",
       "  'log',\n",
       "  'file',\n",
       "  '[UNK]',\n",
       "  'used',\n",
       "  'used'),\n",
       " ('ui',\n",
       "  'cmdline',\n",
       "  'read',\n",
       "  'line',\n",
       "  'user',\n",
       "  'root',\n",
       "  'command',\n",
       "  'command',\n",
       "  'rpc',\n",
       "  'rpc',\n",
       "  'command',\n",
       "  'show',\n",
       "  'chassis',\n",
       "  'routing',\n",
       "  'engine'),\n",
       " ('ui',\n",
       "  'cmdline',\n",
       "  'read',\n",
       "  'line',\n",
       "  'user',\n",
       "  'root',\n",
       "  'command',\n",
       "  'show',\n",
       "  'chassis',\n",
       "  'routing',\n",
       "  'engine'),\n",
       " ('ifinfo', 'ifd', 'name', 'ifd', '[UNK]'),\n",
       " ('ui',\n",
       "  'cmdline',\n",
       "  'read',\n",
       "  'line',\n",
       "  'user',\n",
       "  'root',\n",
       "  'command',\n",
       "  'monitor',\n",
       "  'interface',\n",
       "  '[interface]'),\n",
       " ('ui',\n",
       "  'cmdline',\n",
       "  'read',\n",
       "  'line',\n",
       "  'user',\n",
       "  'root',\n",
       "  'command',\n",
       "  'show',\n",
       "  'system',\n",
       "  '[UNK]'),\n",
       " ('miimtimeout',\n",
       "  'soc',\n",
       "  'miim',\n",
       "  'read',\n",
       "  'timeout',\n",
       "  'id',\n",
       "  '[number]',\n",
       "  'addr',\n",
       "  '[number]'),\n",
       " ('port',\n",
       "  'ge',\n",
       "  'failed',\n",
       "  'to',\n",
       "  'recover',\n",
       "  'link',\n",
       "  'status',\n",
       "  'operation',\n",
       "  'timed',\n",
       "  'out'),\n",
       " ('oc', 'miim', 'read', 'timeout', 'id', '[number]', 'addr', '[number]'),\n",
       " ('failed', 'to', 'recover', 'link', 'status', 'operation', 'timed', 'out'),\n",
       " ('ui', 'write', 'lostconn', 'lost', 'connection', 'to', 'peer', 'unknown'),\n",
       " ('ui',\n",
       "  'child',\n",
       "  'status',\n",
       "  'cleanup',\n",
       "  'child',\n",
       "  '[path]',\n",
       "  'pid',\n",
       "  'status',\n",
       "  '[UNK]'),\n",
       " ('ui',\n",
       "  'child',\n",
       "  '[UNK]',\n",
       "  'child',\n",
       "  'received',\n",
       "  'signal',\n",
       "  'pid',\n",
       "  'signal',\n",
       "  '[UNK]',\n",
       "  'command',\n",
       "  '[path]')]"
      ]
     },
     "execution_count": 26,
     "metadata": {},
     "output_type": "execute_result"
    }
   ],
   "source": [
    "log_patterns"
   ]
  },
  {
   "cell_type": "code",
   "execution_count": 48,
   "metadata": {},
   "outputs": [
    {
     "data": {
      "image/png": "[encoded data removed]",
      "text/plain": [
       "<Figure size 432x288 with 1 Axes>"
      ]
     },
     "metadata": {},
     "output_type": "display_data"
    }
   ],
   "source": [
    "\n",
    "plt.hist(tf_idf, bins=20)\n",
    "plt.show()"
   ]
  },
  {
   "cell_type": "code",
   "execution_count": 37,
   "metadata": {},
   "outputs": [
    {
     "data": {
      "text/plain": [
       "177"
      ]
     },
     "execution_count": 37,
     "metadata": {},
     "output_type": "execute_result"
    }
   ],
   "source": [
    "len(tf_idf)"
   ]
  },
  {
   "cell_type": "code",
   "execution_count": 19,
   "metadata": {
    "scrolled": true
   },
   "outputs": [
    {
     "name": "stdout",
     "output_type": "stream",
     "text": [
      "ui write lostconn lost connection to peer unknown: 10.695805632540475\n",
      "ge [path] promiscuous mode enabled: 10.918949183854684\n",
      "ge [path] promiscuous mode disabled: 10.918949183854684\n",
      "ifinfo ifd name ifd ge [path]: 10.918949183854684\n",
      "connection reset by port: 11.206631256306466\n",
      "connection reset by port preauth: 11.206631256306466\n",
      "ui cmdline read line user root command monitor traffic [UNK]: 11.206631256306466\n",
      "ui cmdline read line user root command show log [UNK]: 11.206631256306466\n",
      "ui cmdline read line user root command show chassis routing engine: 11.206631256306466\n",
      "ui child status cleanup child [path] pid status [UNK]: 11.206631256306466\n",
      "ui child [UNK] child received signal pid signal [UNK] command [path]: 11.206631256306466\n",
      "pam sm authenticate debug pam user dpnm: 11.61209636441463\n",
      "pam sm authenticate debug updating lock attempts of user dpnm attempts: 11.61209636441463\n",
      "error pam authentication error for dpnm from: 11.61209636441463\n",
      "sshd login failed login failed for user dpnm from host: 11.61209636441463\n",
      "ui cmdline read line user root command monitor traffic: 11.61209636441463\n",
      "ifinfo ifd name ifd ge: 11.61209636441463\n",
      "ui cmdline read line user root command monitor interface [interface] [path]: 11.61209636441463\n",
      "ui cmdline read line user root command [UNK] monitor: 11.61209636441463\n",
      "ui cmdline read line user root command show log: 11.61209636441463\n",
      "[UNK] msg handler [UNK] peer msg handler error for msg [UNK] msg [UNK] and peer [UNK]: 11.61209636441463\n",
      "pam sm authenticate debug pam user jwkim: 11.61209636441463\n",
      "pam sm authenticate debug updating lock attempts of user jwkim attempts: 11.61209636441463\n",
      "sshd login failed login failed for user jwkim from host: 11.61209636441463\n",
      "failed password for jwkim from port ssh: 11.61209636441463\n",
      "pam sm authenticate debug pam user oraprod: 11.61209636441463\n",
      "pam sm authenticate debug updating lock attempts of user oraprod attempts: 11.61209636441463\n",
      "sshd login failed login failed for user oraprod from host: 11.61209636441463\n",
      "failed password for oraprod from port ssh: 11.61209636441463\n",
      "pam sm authenticate debug pam user odoo: 11.61209636441463\n",
      "pam sm authenticate debug updating lock attempts of user odoo attempts: 11.61209636441463\n",
      "sshd login failed login failed for user odoo from host: 11.61209636441463\n",
      "failed password for odoo from port ssh: 11.61209636441463\n",
      "pam sm authenticate debug pam user syslog: 11.61209636441463\n",
      "pam sm authenticate debug updating lock attempts of user syslog attempts: 11.61209636441463\n",
      "sshd login failed login failed for user syslog from host: 11.61209636441463\n",
      "failed password for syslog from port ssh: 11.61209636441463\n",
      "sshd login failed login failed for user user from host: 11.61209636441463\n",
      "failed password for user from port ssh: 11.61209636441463\n",
      "pam sm authenticate debug pam user sftpuser: 11.61209636441463\n",
      "pam sm authenticate debug updating lock attempts of user sftpuser attempts: 11.61209636441463\n",
      "sshd login failed login failed for user sftpuser from host: 11.61209636441463\n",
      "failed password for sftpuser from port ssh: 11.61209636441463\n",
      "pam sm authenticate debug pam user pi: 11.61209636441463\n",
      "pam sm authenticate debug updating lock attempts of user pi attempts: 11.61209636441463\n",
      "sshd login failed login failed for user pi from host: 11.61209636441463\n",
      "failed password for pi from port ssh: 11.61209636441463\n",
      "pam sm authenticate debug pam user osmc: 11.61209636441463\n",
      "pam sm authenticate debug updating lock attempts of user osmc attempts: 11.61209636441463\n",
      "sshd login failed login failed for user osmc from host: 11.61209636441463\n",
      "failed password for osmc from port ssh: 11.61209636441463\n",
      "[UNK] set by root: 11.61209636441463\n",
      "ui child status cleanup child [path] pid status [number]: 11.61209636441463\n",
      "ui child exited child exited pid status command [path]: 11.61209636441463\n",
      "ui cmdline read line user root command show system uptime: 11.61209636441463\n",
      "ui cmdline read line user root command command rpc rpc command show system uptime no forwarding: 11.61209636441463\n",
      "ui junoscript cmd user root used junoscript client to run command get system uptime information: 11.61209636441463\n",
      "not [UNK] on [UNK] to [UNK] log file [UNK] used used: 11.61209636441463\n",
      "ifinfo ifd name ifd [UNK]: 11.61209636441463\n",
      "ui cmdline read line user root command monitor interface [interface]: 11.61209636441463\n",
      "ui cmdline read line user root command show system [UNK]: 11.61209636441463\n",
      "61\n"
     ]
    }
   ],
   "source": [
    "num_=0\n",
    "for i, log_pattern in enumerate(log_patterns):\n",
    "    if tf_idf[i]>1.9:\n",
    "        print(' '.join(log_pattern[0])+': '+str(tf[i]))\n",
    "        num_+=1\n",
    "print(num_)"
   ]
  },
  {
   "cell_type": "code",
   "execution_count": 20,
   "metadata": {},
   "outputs": [
    {
     "data": {
      "image/png": "[encoded data removed]",
      "text/plain": [
       "<Figure size 432x288 with 1 Axes>"
      ]
     },
     "metadata": {},
     "output_type": "display_data"
    }
   ],
   "source": [
    "plt.hist(tf, bins=20)\n",
    "plt.show()"
   ]
  },
  {
   "cell_type": "code",
   "execution_count": 126,
   "metadata": {},
   "outputs": [
    {
     "data": {
      "image/png": "[encoded data removed]",
      "text/plain": [
       "<Figure size 432x288 with 1 Axes>"
      ]
     },
     "metadata": {},
     "output_type": "display_data"
    }
   ],
   "source": [
    "plt.hist(ln(tf), bins=20)\n",
    "plt.show()"
   ]
  },
  {
   "cell_type": "code",
   "execution_count": 21,
   "metadata": {},
   "outputs": [
    {
     "data": {
      "image/png": "[encoded data removed]",
      "text/plain": [
       "<Figure size 432x288 with 1 Axes>"
      ]
     },
     "metadata": {},
     "output_type": "display_data"
    }
   ],
   "source": [
    "plt.hist(idf, bins=20)\n",
    "plt.show()"
   ]
  },
  {
   "cell_type": "code",
   "execution_count": 31,
   "metadata": {},
   "outputs": [
    {
     "data": {
      "image/png": "[encoded data removed]",
      "text/plain": [
       "<Figure size 432x288 with 1 Axes>"
      ]
     },
     "metadata": {},
     "output_type": "display_data"
    }
   ],
   "source": [
    "plt.hist(ln(idf), bins=20)\n",
    "plt.show()"
   ]
  },
  {
   "cell_type": "code",
   "execution_count": 4,
   "metadata": {},
   "outputs": [
    {
     "data": {
      "image/png": "[encoded data removed]",
      "text/plain": [
       "<Figure size 432x288 with 1 Axes>"
      ]
     },
     "metadata": {},
     "output_type": "display_data"
    }
   ],
   "source": [
    "x=range(len(tf_idf))\n",
    "plt.plot(x, tf, label='tf')\n",
    "plt.plot(x, idf, label='idf')\n",
    "plt.plot(x, tf_idf, label='tf-idf')\n",
    "plt.legend()\n",
    "plt.xlabel('log pattern num.')\n",
    "plt.show()"
   ]
  },
  {
   "cell_type": "code",
   "execution_count": 12,
   "metadata": {},
   "outputs": [
    {
     "data": {
      "image/png": "[encoded data removed]",
      "text/plain": [
       "<Figure size 432x288 with 1 Axes>"
      ]
     },
     "metadata": {},
     "output_type": "display_data"
    }
   ],
   "source": [
    "x=range(len(tf_idf))\n",
    "plt.plot(x, tf, '--', label='tf')\n",
    "plt.plot(x, idf, '-', label='idf')\n",
    "plt.plot(x, tf_idf, ':', label='tf-idf')\n",
    "plt.legend()\n",
    "plt.xlabel('log pattern num.')\n",
    "plt.show()"
   ]
  },
  {
   "cell_type": "code",
   "execution_count": 155,
   "metadata": {},
   "outputs": [
    {
     "data": {
      "image/png": "[encoded data removed]",
      "text/plain": [
       "<Figure size 432x288 with 1 Axes>"
      ]
     },
     "metadata": {},
     "output_type": "display_data"
    }
   ],
   "source": [
    "x=range(len(idf))\n",
    "plt.plot(x, idf, label='idf')\n",
    "plt.plot(x, tf, label='tf')\n",
    "plt.legend()\n",
    "plt.show()"
   ]
  },
  {
   "cell_type": "code",
   "execution_count": 156,
   "metadata": {
    "scrolled": true
   },
   "outputs": [
    {
     "name": "stdout",
     "output_type": "stream",
     "text": [
      "177 177\n",
      "connection reset by port: 4.719090772542918\n",
      "connection reset by port preauth: 4.719090772542918\n",
      "pam sm authenticate debug pam user dpnm: 4.754632437814264\n",
      "pam sm authenticate debug updating lock attempts of user dpnm attempts: 4.754632437814264\n",
      "error pam authentication error for dpnm from: 4.754632437814264\n",
      "sshd login failed login failed for user dpnm from host: 4.754632437814264\n",
      "ge [path] promiscuous mode enabled: 4.693084830095802\n",
      "ui cmdline read line user root command monitor traffic: 4.754632437814264\n",
      "ge [path] promiscuous mode disabled: 4.693084830095802\n",
      "ui cmdline read line user root command monitor traffic [UNK]: 4.719090772542918\n",
      "ifinfo ifd name ifd ge: 4.754632437814264\n",
      "ifinfo ifd name ifd ge [path]: 4.693084830095802\n",
      "ui cmdline read line user root command monitor interface [interface] [path]: 4.754632437814264\n",
      "ui cmdline read line user root command [UNK] monitor: 4.754632437814264\n",
      "ui cmdline read line user root command show log [UNK]: 4.719090772542918\n",
      "ui cmdline read line user root command show log: 4.754632437814264\n",
      "[UNK] msg handler [UNK] peer msg handler error for msg [UNK] msg [UNK] and peer [UNK]: 4.754632437814264\n",
      "pam sm authenticate debug pam user jwkim: 4.754632437814264\n",
      "pam sm authenticate debug updating lock attempts of user jwkim attempts: 4.754632437814264\n",
      "sshd login failed login failed for user jwkim from host: 4.754632437814264\n",
      "failed password for jwkim from port ssh: 4.754632437814264\n",
      "pam sm authenticate debug pam user oraprod: 4.754632437814264\n",
      "pam sm authenticate debug updating lock attempts of user oraprod attempts: 4.754632437814264\n",
      "sshd login failed login failed for user oraprod from host: 4.754632437814264\n",
      "failed password for oraprod from port ssh: 4.754632437814264\n",
      "pam sm authenticate debug pam user odoo: 4.754632437814264\n",
      "pam sm authenticate debug updating lock attempts of user odoo attempts: 4.754632437814264\n",
      "sshd login failed login failed for user odoo from host: 4.754632437814264\n",
      "failed password for odoo from port ssh: 4.754632437814264\n",
      "pam sm authenticate debug pam user syslog: 4.754632437814264\n",
      "pam sm authenticate debug updating lock attempts of user syslog attempts: 4.754632437814264\n",
      "sshd login failed login failed for user syslog from host: 4.754632437814264\n",
      "failed password for syslog from port ssh: 4.754632437814264\n",
      "sshd login failed login failed for user user from host: 4.754632437814264\n",
      "failed password for user from port ssh: 4.754632437814264\n",
      "pam sm authenticate debug pam user sftpuser: 4.754632437814264\n",
      "pam sm authenticate debug updating lock attempts of user sftpuser attempts: 4.754632437814264\n",
      "sshd login failed login failed for user sftpuser from host: 4.754632437814264\n",
      "failed password for sftpuser from port ssh: 4.754632437814264\n",
      "pam sm authenticate debug pam user pi: 4.754632437814264\n",
      "pam sm authenticate debug updating lock attempts of user pi attempts: 4.754632437814264\n",
      "sshd login failed login failed for user pi from host: 4.754632437814264\n",
      "failed password for pi from port ssh: 4.754632437814264\n",
      "pam sm authenticate debug pam user osmc: 4.754632437814264\n",
      "pam sm authenticate debug updating lock attempts of user osmc attempts: 4.754632437814264\n",
      "sshd login failed login failed for user osmc from host: 4.754632437814264\n",
      "failed password for osmc from port ssh: 4.754632437814264\n",
      "[UNK] set by root: 4.754632437814264\n",
      "ui child status cleanup child [path] pid status [number]: 4.754632437814264\n",
      "ui child exited child exited pid status command [path]: 4.754632437814264\n",
      "ui cmdline read line user root command show system uptime: 4.754632437814264\n",
      "ui cmdline read line user root command command rpc rpc command show system uptime no forwarding: 4.754632437814264\n",
      "ui junoscript cmd user root used junoscript client to run command get system uptime information: 4.754632437814264\n",
      "not [UNK] on [UNK] to [UNK] log file [UNK] used used: 4.754632437814264\n",
      "ui cmdline read line user root command show chassis routing engine: 4.719090772542918\n",
      "ifinfo ifd name ifd [UNK]: 4.754632437814264\n",
      "ui cmdline read line user root command monitor interface [interface]: 4.754632437814264\n",
      "ui cmdline read line user root command show system [UNK]: 4.754632437814264\n",
      "ui write lostconn lost connection to peer unknown: 4.67243676065218\n",
      "ui child status cleanup child [path] pid status [UNK]: 4.719090772542918\n",
      "ui child [UNK] child received signal pid signal [UNK] command [path]: 4.719090772542918\n",
      "61\n"
     ]
    }
   ],
   "source": [
    "with open('data.pkl','rb') as f:\n",
    "    data=pkl.load(f)\n",
    "(log_dict, synant_dict, log_patterns,event_list),(Q, sigma, delta, initialState, F_) = data\n",
    "print(len(idf), len(log_patterns))\n",
    "num_=0\n",
    "for i, log_pattern in enumerate(log_patterns):\n",
    "    if tf_idf[i]>4.5:\n",
    "        print(' '.join(log_pattern[0])+': '+str(tf_idf[i]))\n",
    "        num_+=1\n",
    "print(num_)"
   ]
  },
  {
   "cell_type": "code",
   "execution_count": 15,
   "metadata": {},
   "outputs": [
    {
     "data": {
      "image/png": "[encoded data removed]",
      "text/plain": [
       "<Figure size 432x288 with 2 Axes>"
      ]
     },
     "metadata": {},
     "output_type": "display_data"
    }
   ],
   "source": [
    "y=[]\n",
    "for i in range(len(df)):\n",
    "    y.append(log_patterns[i][1])\n",
    "    \n",
    "fig, ax1 = plt.subplots()\n",
    "ln1=ax1.plot(x,y,label='freq')\n",
    "ax1.set_ylabel('freq', color='tab:blue',rotation=0)\n",
    "\n",
    "ax2=ax1.twinx()\n",
    "ln2=ax2.plot(x, df, '--', color='tab:red',label='df')\n",
    "ax2.set_ylabel('df', color='tab:red',rotation=0)\n",
    "#fig.tight_layout()\n",
    "lns=ln1+ln2\n",
    "labs=[l.get_label() for l in lns]\n",
    "plt.xlabel('log pattern num.')\n",
    "ax1.legend(lns,labs,loc=0)\n",
    "#fig.legend(loc='upper right')\n",
    "plt.show()"
   ]
  },
  {
   "cell_type": "code",
   "execution_count": 45,
   "metadata": {},
   "outputs": [
    {
     "data": {
      "image/png": "[encoded data removed]",
      "text/plain": [
       "<Figure size 432x288 with 2 Axes>"
      ]
     },
     "metadata": {},
     "output_type": "display_data"
    }
   ],
   "source": [
    "fig, ax1 = plt.subplots()\n",
    "ax1.plot(x,df,label='df')\n",
    "\n",
    "ax2=ax1.twinx()\n",
    "ax2.plot(x, idf, color='tab:red',label='idf')\n",
    "fig.tight_layout()\n",
    "fig.legend(loc='upper right')\n",
    "plt.show()"
   ]
  },
  {
   "cell_type": "code",
   "execution_count": 17,
   "metadata": {},
   "outputs": [],
   "source": [
    "class lstm_model(nn.Module):\n",
    "    def __init__(self, input_dim, hidden_dim, output_dim):\n",
    "        super(lstm_model, self).__init__()\n",
    "        #input_dim will be sequence length\n",
    "        self.lstm=nn.LSTM(1, hidden_dim, batch_first=True)\n",
    "        self.fc=nn.Linear(hidden_dim, output_dim)\n",
    "    def forward(self, x):\n",
    "        # x = [batch_size, input_dim,1]\n",
    "        out, h=self.lstm(x.unsqueeze(2))\n",
    "        x = self.fc(h[0].squeeze())\n",
    "        x=F.log_softmax(x.unsqueeze(0),dim=1)\n",
    "        return x"
   ]
  },
  {
   "cell_type": "code",
   "execution_count": 18,
   "metadata": {},
   "outputs": [
    {
     "data": {
      "text/plain": [
       "lstm_model(\n",
       "  (lstm): LSTM(1, 20, batch_first=True)\n",
       "  (fc): Linear(in_features=20, out_features=50, bias=True)\n",
       ")"
      ]
     },
     "execution_count": 18,
     "metadata": {},
     "output_type": "execute_result"
    }
   ],
   "source": [
    "event_pred_model=torch.load('../model/eventnum50_input10_acc86.pt')\n",
    "event_pred_model.load_state_dict(torch.load('../model/eventnum50_input10_acc86_state_dict.pt'))\n",
    "event_pred_model.eval()"
   ]
  },
  {
   "cell_type": "code",
   "execution_count": 19,
   "metadata": {},
   "outputs": [],
   "source": [
    "class TransformerModel(nn.Module):\n",
    "    def __init__(self, input_dim, hidden_dim, output_dim, num_layers=2, num_heads=5):\n",
    "        super(TransformerModel, self).__init__()\n",
    "        self.output_dim=output_dim\n",
    "        self.transformer = nn.TransformerEncoderLayer(d_model=output_dim, nhead=num_heads, dim_feedforward =hidden_dim,batch_first=True)\n",
    "        self.transformer_encoder = nn.TransformerEncoder(self.transformer, num_layers=num_layers)\n",
    "        #self.fc = nn.Linear(output_dim, output_dim)\n",
    "\n",
    "    def forward(self, x):\n",
    "        # x = [batch_size, input_dim]\n",
    "        #print(self.output_dim)\n",
    "        #print(x)\n",
    "        x=F.one_hot(x.to(torch.int64), num_classes=self.output_dim)\n",
    "        # x = [batch_size, input_dim, output_dim]\n",
    "        out = self.transformer_encoder(x.to(torch.float32))\n",
    "        # out = [batch_size, input_dim, output_dim]\n",
    "        x = F.log_softmax(out[:,-1:,:].squeeze(1).to(torch.float32), dim=1)  # 확률 분포를 위해 softmax 적용\n",
    "        return x"
   ]
  },
  {
   "cell_type": "code",
   "execution_count": 20,
   "metadata": {},
   "outputs": [
    {
     "data": {
      "text/plain": [
       "TransformerModel(\n",
       "  (transformer): TransformerEncoderLayer(\n",
       "    (self_attn): MultiheadAttention(\n",
       "      (out_proj): NonDynamicallyQuantizableLinear(in_features=50, out_features=50, bias=True)\n",
       "    )\n",
       "    (linear1): Linear(in_features=50, out_features=20, bias=True)\n",
       "    (dropout): Dropout(p=0.1, inplace=False)\n",
       "    (linear2): Linear(in_features=20, out_features=50, bias=True)\n",
       "    (norm1): LayerNorm((50,), eps=1e-05, elementwise_affine=True)\n",
       "    (norm2): LayerNorm((50,), eps=1e-05, elementwise_affine=True)\n",
       "    (dropout1): Dropout(p=0.1, inplace=False)\n",
       "    (dropout2): Dropout(p=0.1, inplace=False)\n",
       "  )\n",
       "  (transformer_encoder): TransformerEncoder(\n",
       "    (layers): ModuleList(\n",
       "      (0): TransformerEncoderLayer(\n",
       "        (self_attn): MultiheadAttention(\n",
       "          (out_proj): NonDynamicallyQuantizableLinear(in_features=50, out_features=50, bias=True)\n",
       "        )\n",
       "        (linear1): Linear(in_features=50, out_features=20, bias=True)\n",
       "        (dropout): Dropout(p=0.1, inplace=False)\n",
       "        (linear2): Linear(in_features=20, out_features=50, bias=True)\n",
       "        (norm1): LayerNorm((50,), eps=1e-05, elementwise_affine=True)\n",
       "        (norm2): LayerNorm((50,), eps=1e-05, elementwise_affine=True)\n",
       "        (dropout1): Dropout(p=0.1, inplace=False)\n",
       "        (dropout2): Dropout(p=0.1, inplace=False)\n",
       "      )\n",
       "      (1): TransformerEncoderLayer(\n",
       "        (self_attn): MultiheadAttention(\n",
       "          (out_proj): NonDynamicallyQuantizableLinear(in_features=50, out_features=50, bias=True)\n",
       "        )\n",
       "        (linear1): Linear(in_features=50, out_features=20, bias=True)\n",
       "        (dropout): Dropout(p=0.1, inplace=False)\n",
       "        (linear2): Linear(in_features=20, out_features=50, bias=True)\n",
       "        (norm1): LayerNorm((50,), eps=1e-05, elementwise_affine=True)\n",
       "        (norm2): LayerNorm((50,), eps=1e-05, elementwise_affine=True)\n",
       "        (dropout1): Dropout(p=0.1, inplace=False)\n",
       "        (dropout2): Dropout(p=0.1, inplace=False)\n",
       "      )\n",
       "    )\n",
       "  )\n",
       "  (fc): Linear(in_features=50, out_features=50, bias=True)\n",
       ")"
      ]
     },
     "execution_count": 20,
     "metadata": {},
     "output_type": "execute_result"
    }
   ],
   "source": [
    "event_pred_model=torch.load('../model/eventnum50_input10_acc99_transform.pt')\n",
    "event_pred_model.load_state_dict(torch.load('../model/eventnum50_input10_acc99_transform_state_dict.pt'))\n",
    "event_pred_model.eval()"
   ]
  },
  {
   "cell_type": "code",
   "execution_count": 21,
   "metadata": {},
   "outputs": [],
   "source": [
    "def calculate_tf_idf(log_data, log_patterns):\n",
    "    # add all value in log_patterns dictionary\n",
    "    num_all_log=sum(single_log[1] for single_log in log_patterns)\n",
    "    num_all_doc=len(log_data)+2\n",
    "\n",
    "    # let's calcurate tf-idf of all patterns\n",
    "    tf_idf=[0 for _ in range(len(log_patterns))]\n",
    "    for single_file_data in log_data:\n",
    "        tmp_df=[False for _ in range(len(log_patterns))]\n",
    "        for single_log in single_file_data:\n",
    "            single_pattern=log_parser(single_log, log_dict)\n",
    "            if single_pattern==[]:continue\n",
    "            tmp_df[find_pattern_num(single_pattern,log_patterns)-1]=True\n",
    "        for i in range(len(tmp_df)):\n",
    "            if tmp_df[i]:\n",
    "                tf_idf[i]+=1\n",
    "    df=tf_idf[:]\n",
    "    tf=[]\n",
    "    idf=[]\n",
    "    for i in range(len(tf_idf)):\n",
    "        tf.append(ln(num_all_log/(1+log_patterns[i][1])))\n",
    "        idf.append(num_all_doc/(1+tf_idf[i]))\n",
    "        tf_idf[i]=sqrt(tf[i]*idf[i])\n",
    "    print(f'tf-idf of all patterns are calculated')\n",
    "    print(f'averagae of tf-idf is {sum(tf_idf)/len(tf_idf)} and std is {sum((tf_idf[i]-sum(tf_idf)/len(tf_idf))**2 for i in range(len(tf_idf)))/len(tf_idf)}, max is {max(tf_idf)}, min is {min(tf_idf)}')\n",
    "    print(f'average of tf is {sum(tf)/len(tf)} and std is {sum((tf[i]-sum(tf)/len(tf))**2 for i in range(len(tf)))/len(tf)} and max is {max(tf)} and min is {min(tf)}')\n",
    "    print(f'average of idf is {sum(idf)/len(idf)} and std is {sum((idf[i]-sum(idf)/len(idf))**2 for i in range(len(idf)))/len(idf)} and max is {max(idf)} and min is {min(idf)}')\n",
    "    return tf_idf"
   ]
  },
  {
   "cell_type": "code",
   "execution_count": 22,
   "metadata": {},
   "outputs": [],
   "source": [
    "def calculate_abnormal_score(log_data,log_patterns, event_list, tf_idf, synant_dict=None):\n",
    "    num_all_log=sum(single_log[1] for single_log in log_patterns)\n",
    "    ori_all_event_num=len(event_list)\n",
    "    print(ori_all_event_num)\n",
    "    num_all_doc=len(log_data)+2\n",
    "    occurrence_porb_list=[]\n",
    "    repeat_rate_list=[]\n",
    "    abnormal_score_list=[]\n",
    "    input_dim=10\n",
    "    for file_num, single_file_data in enumerate(log_data):\n",
    "        print(f'processing {file_num+1}th file of {len(log_data)} num of files')\n",
    "        model_input=[]\n",
    "        #event_num=find_event_num(log_parser(single_file_data[0],log_dict),event_list)\n",
    "        #model_input.append(event_num)\n",
    "        #date_now=single_file_data[0]['date']\n",
    "        #recent_event_nums=[[date_now,event_num]]\n",
    "        recent_event_nums=[]\n",
    "        for single_log in single_file_data:\n",
    "            single_pattern=log_parser(single_log, log_dict)\n",
    "            date_now=single_log['date']\n",
    "            if single_pattern==[]:continue            \n",
    "            event_num=find_event_num(single_pattern,event_list)\n",
    "            if event_num == None:\n",
    "                # Unseen Log Pattern!\n",
    "                log_patterns.append([single_pattern, 1])\n",
    "                tf_idf.append(ln(ln(num_all_log)*(num_all_doc+2)))\n",
    "                assert(len(log_patterns)==len(tf_idf))\n",
    "                find_event,event_list = put_new_pattern_to_event_list(single_pattern, event_list, synant_dict)\n",
    "                if find_event:\n",
    "                    event_num=find_event_num(single_pattern,event_list)\n",
    "                else:\n",
    "                    # Unseen Event! Make new event\n",
    "                    event_list.append([single_pattern])\n",
    "                    event_num=len(event_list)\n",
    "            # Event Prediction (LSTM) calculate\n",
    "            if event_num>ori_all_event_num:\n",
    "                occurence_probability=1.2e-6\n",
    "            else:\n",
    "                if len(model_input)>=input_dim:\n",
    "                    input_data=torch.tensor([model_input[len(model_input)-input_dim:]],dtype=torch.float32)\n",
    "                    with torch.no_grad():\n",
    "                        prediction=event_pred_model(input_data)\n",
    "                    occurence_probability=np.exp(prediction[0][event_num-1].item())\n",
    "                    model_input=model_input[len(model_input)-input_dim+1:]\n",
    "                else:\n",
    "                    occurence_probability=1\n",
    "            # Repeat Rate calculate\n",
    "            recent_event_nums=[x for x in recent_event_nums if x[0]>date_now-timedelta(minutes=10)]\n",
    "            reapeat_rate=ln((len([x for x in recent_event_nums if x[1]==event_num])+2))\n",
    "            \n",
    "            abnormal_score=tf_idf[find_pattern_num(single_pattern,log_patterns)-1]*(1-occurence_probability)*reapeat_rate\n",
    "            occurrence_porb_list.append(occurence_probability)\n",
    "            repeat_rate_list.append(reapeat_rate)\n",
    "            abnormal_score_list.append(abnormal_score)\n",
    "            # Update recent_event_nums and etc\n",
    "            recent_event_nums.append([date_now, event_num])\n",
    "            if event_num<=ori_all_event_num:\n",
    "                model_input.append(event_num-1)\n",
    "    print(f'average of occurence_probability is {np.average(occurrence_porb_list)} and std is {np.std(occurrence_porb_list)} and max is {np.max(occurrence_porb_list)} and min is {np.min(occurrence_porb_list)}')\n",
    "    print(f'average of repeat_rate is {np.average(repeat_rate_list)} and std is {np.std(repeat_rate_list)} and max is {np.max(repeat_rate_list)} and min is {np.min(repeat_rate_list)}')\n",
    "    print(f'average of abnormal_score is {np.average(abnormal_score_list)} and std is {np.std(abnormal_score_list)} and max is {np.max(abnormal_score_list)} and min is {np.min(abnormal_score_list)}')\n",
    "    return occurrence_porb_list, repeat_rate_list, abnormal_score_list"
   ]
  },
  {
   "cell_type": "code",
   "execution_count": 23,
   "metadata": {},
   "outputs": [
    {
     "name": "stdout",
     "output_type": "stream",
     "text": [
      "tf-idf of all patterns are calculated\n",
      "averagae of tf-idf is 7.307225476985818 and std is 9.044412287030285, max is 10.775943747261596, min is 2.1502598621583213\n",
      "average of tf is 8.26465304446208 and std is 9.241679855628224 and max is 11.61209636441463 and min is 3.0135075347943983\n",
      "average of idf is 6.6090818453729705 and std is 9.258310665967919 and max is 10.0 and min is 1.1764705882352942\n",
      "50\n",
      "processing 1th file of 18 num of files\n",
      "processing 2th file of 18 num of files\n",
      "processing 3th file of 18 num of files\n",
      "processing 4th file of 18 num of files\n",
      "processing 5th file of 18 num of files\n",
      "processing 6th file of 18 num of files\n",
      "processing 7th file of 18 num of files\n",
      "processing 8th file of 18 num of files\n",
      "processing 9th file of 18 num of files\n",
      "processing 10th file of 18 num of files\n",
      "processing 11th file of 18 num of files\n",
      "processing 12th file of 18 num of files\n",
      "processing 13th file of 18 num of files\n",
      "processing 14th file of 18 num of files\n",
      "processing 15th file of 18 num of files\n",
      "processing 16th file of 18 num of files\n",
      "processing 17th file of 18 num of files\n",
      "processing 18th file of 18 num of files\n",
      "average of occurence_probability is 0.8778407240911522 and std is 0.2493279842443234 and max is 1.0 and min is 3.644154773167747e-07\n",
      "average of repeat_rate is 4.708142380246298 and std is 1.3350558603369826 and max is 6.796823718274855 and min is 0.6931471805599453\n",
      "average of abnormal_score is 1.6698727765881343 and std is 3.6781284285107305 and max is 56.084399049998744 and min is 0.0\n"
     ]
    }
   ],
   "source": [
    "with open('data.pkl','rb') as f:\n",
    "    data=pkl.load(f)\n",
    "(log_dict, synant_dict, log_patterns,event_list),(Q, sigma, delta, initialState, F_) = data\n",
    "tf_idf=calculate_tf_idf(log_data, log_patterns)\n",
    "occurrence_prob_list, repeat_rate_list, abnormal_score_list = calculate_abnormal_score(\n",
    "    log_data, log_patterns,event_list,tf_idf, synant_dict)"
   ]
  },
  {
   "cell_type": "code",
   "execution_count": 24,
   "metadata": {
    "scrolled": true
   },
   "outputs": [
    {
     "data": {
      "text/plain": [
       "<matplotlib.collections.PathCollection at 0x7f7395d4e278>"
      ]
     },
     "execution_count": 24,
     "metadata": {},
     "output_type": "execute_result"
    },
    {
     "data": {
      "image/png": "[encoded data removed]",
      "text/plain": [
       "<Figure size 432x288 with 1 Axes>"
      ]
     },
     "metadata": {},
     "output_type": "display_data"
    }
   ],
   "source": [
    "plt.scatter( [x for x in range(len(abnormal_score_list))], abnormal_score_list, s=0.1)"
   ]
  },
  {
   "cell_type": "code",
   "execution_count": 192,
   "metadata": {
    "scrolled": true
   },
   "outputs": [
    {
     "data": {
      "text/plain": [
       "170"
      ]
     },
     "execution_count": 192,
     "metadata": {},
     "output_type": "execute_result"
    }
   ],
   "source": [
    "np.sum(np.array(abnormal_score_list)>15)"
   ]
  },
  {
   "cell_type": "code",
   "execution_count": 193,
   "metadata": {},
   "outputs": [
    {
     "data": {
      "text/plain": [
       "220851"
      ]
     },
     "execution_count": 193,
     "metadata": {},
     "output_type": "execute_result"
    }
   ],
   "source": [
    "len(abnormal_score_list)"
   ]
  },
  {
   "cell_type": "code",
   "execution_count": 107,
   "metadata": {},
   "outputs": [
    {
     "data": {
      "text/plain": [
       "<matplotlib.collections.PathCollection at 0x7fe97c892ac8>"
      ]
     },
     "execution_count": 107,
     "metadata": {},
     "output_type": "execute_result"
    },
    {
     "data": {
      "image/png": "[encoded data removed]",
      "text/plain": [
       "<Figure size 432x288 with 1 Axes>"
      ]
     },
     "metadata": {},
     "output_type": "display_data"
    }
   ],
   "source": [
    "plt.scatter( [x for x in range(len(abnormal_score_list))], np.reciprocal(occurrence_prob_list),s=1)"
   ]
  },
  {
   "cell_type": "code",
   "execution_count": 195,
   "metadata": {},
   "outputs": [
    {
     "data": {
      "text/plain": [
       "<matplotlib.collections.PathCollection at 0x7fe91f9c2e10>"
      ]
     },
     "execution_count": 195,
     "metadata": {},
     "output_type": "execute_result"
    },
    {
     "data": {
      "image/png": "[encoded data removed]",
      "text/plain": [
       "<Figure size 432x288 with 1 Axes>"
      ]
     },
     "metadata": {},
     "output_type": "display_data"
    }
   ],
   "source": [
    "plt.scatter( [x for x in range(len(abnormal_score_list))],[1-x for x in occurrence_prob_list],s=1)"
   ]
  },
  {
   "cell_type": "code",
   "execution_count": 152,
   "metadata": {},
   "outputs": [
    {
     "data": {
      "text/plain": [
       "<matplotlib.collections.PathCollection at 0x7fe712a25278>"
      ]
     },
     "execution_count": 152,
     "metadata": {},
     "output_type": "execute_result"
    },
    {
     "data": {
      "image/png": "[encoded data removed]",
      "text/plain": [
       "<Figure size 432x288 with 1 Axes>"
      ]
     },
     "metadata": {},
     "output_type": "display_data"
    }
   ],
   "source": [
    "plt.scatter( [x for x in range(len(abnormal_score_list))], repeat_rate_list, s=1)"
   ]
  },
  {
   "cell_type": "code",
   "execution_count": 54,
   "metadata": {},
   "outputs": [
    {
     "name": "stdout",
     "output_type": "stream",
     "text": [
      "average of occurence_probability is 0.04410130145605006 and std is 0.08862869837915519 and max is 1.0 and min is 1.2992959081746328e-06\n",
      "average of repeat_rate is 3.984612436508957 and std is 1.4294908712765526 and max is 6.380122536899765 and min is 0.0\n",
      "average of abnormal_score is 9.301607601397658 and std is 3.7395219793035435 and max is 27.473734835994282 and min is 0.0\n"
     ]
    }
   ],
   "source": [
    "print(f'average of occurence_probability is {np.average(occurrence_porb_list)} and std is {np.std(occurrence_porb_list)} and max is {np.max(occurrence_porb_list)} and min is {np.min(occurrence_porb_list)}')\n",
    "print(f'average of repeat_rate is {np.average(repeat_rate_list)} and std is {np.std(repeat_rate_list)} and max is {np.max(repeat_rate_list)} and min is {np.min(repeat_rate_list)}')\n",
    "print(f'average of abnormal_score is {np.average(abnormal_score_list)} and std is {np.std(abnormal_score_list)} and max is {np.max(abnormal_score_list)} and min is {np.min(abnormal_score_list)}')"
   ]
  },
  {
   "cell_type": "code",
   "execution_count": 14,
   "metadata": {},
   "outputs": [
    {
     "name": "stdout",
     "output_type": "stream",
     "text": [
      "tf-idf of all patterns are calculated\n",
      "averagae of tf-idf is 7.307225476985818 and std is 9.044412287030285, max is 10.775943747261596, min is 2.1502598621583213\n",
      "average of tf is 8.26465304446208 and std is 9.241679855628224 and max is 11.61209636441463 and min is 3.0135075347943983\n",
      "average of idf is 6.6090818453729705 and std is 9.258310665967919 and max is 10.0 and min is 1.1764705882352942\n",
      "16 of abnormal data readed\n",
      "50\n",
      "processing 1th file of 16 num of files\n",
      "processing 2th file of 16 num of files\n",
      "processing 3th file of 16 num of files\n",
      "processing 4th file of 16 num of files\n",
      "processing 5th file of 16 num of files\n",
      "processing 6th file of 16 num of files\n",
      "processing 7th file of 16 num of files\n",
      "processing 8th file of 16 num of files\n",
      "processing 9th file of 16 num of files\n",
      "processing 10th file of 16 num of files\n",
      "processing 11th file of 16 num of files\n",
      "processing 12th file of 16 num of files\n",
      "processing 13th file of 16 num of files\n",
      "processing 14th file of 16 num of files\n",
      "processing 15th file of 16 num of files\n",
      "processing 16th file of 16 num of files\n",
      "average of occurence_probability is 0.5640697462896171 and std is 0.4319717984913981 and max is 1.0 and min is 2.2531292067508052e-07\n",
      "average of repeat_rate is 2.942661152670202 and std is 1.4503412491400076 and max is 6.7226297948554485 and min is 0.6931471805599453\n",
      "average of abnormal_score is 6.399156712595526 and std is 10.005712691222241 and max is 57.08976988604587 and min is 0.0\n"
     ]
    }
   ],
   "source": [
    "with open('data.pkl','rb') as f:\n",
    "    data=pkl.load(f)\n",
    "(log_dict, synant_dict, log_patterns,event_list),(Q, sigma, delta, initialState, F_) = data\n",
    "tf_idf=calculate_tf_idf(log_data, log_patterns)\n",
    "# Let's calculate with abnormal Log\n",
    "abnormal_log_path='../overloaded_log'\n",
    "abnorm_log_data=[]\n",
    "abnorm_num=0\n",
    "abnorm_date_list=os.listdir(abnormal_log_path)\n",
    "for date in abnorm_date_list:\n",
    "    if os.path.isfile(abnormal_log_path+'/'+date):\n",
    "        continue\n",
    "    log_=read_file(abnormal_log_path+'/'+date+'/all.log')\n",
    "    if log_:\n",
    "        abnorm_log_data.append(log_)\n",
    "        abnorm_num+=1\n",
    "print(f'{abnorm_num} of abnormal data readed')\n",
    "\n",
    "ab_occ_porb, ab_rep_rate, ab_ab_score= calculate_abnormal_score(abnorm_log_data, log_patterns,event_list,tf_idf, synant_dict)"
   ]
  },
  {
   "cell_type": "code",
   "execution_count": 15,
   "metadata": {},
   "outputs": [
    {
     "data": {
      "text/plain": [
       "<matplotlib.collections.PathCollection at 0x7ff91d8b2d30>"
      ]
     },
     "execution_count": 15,
     "metadata": {},
     "output_type": "execute_result"
    },
    {
     "data": {
      "image/png": "[encoded data removed]",
      "text/plain": [
       "<Figure size 432x288 with 1 Axes>"
      ]
     },
     "metadata": {},
     "output_type": "display_data"
    }
   ],
   "source": [
    "plt.scatter( [x for x in range(len(ab_ab_score))], ab_ab_score, s=0.1)"
   ]
  },
  {
   "cell_type": "code",
   "execution_count": 194,
   "metadata": {},
   "outputs": [
    {
     "data": {
      "text/plain": [
       "32095"
      ]
     },
     "execution_count": 194,
     "metadata": {},
     "output_type": "execute_result"
    }
   ],
   "source": [
    "np.sum(np.array(ab_ab_score)>15)"
   ]
  },
  {
   "cell_type": "code",
   "execution_count": 159,
   "metadata": {},
   "outputs": [
    {
     "data": {
      "text/plain": [
       "267059"
      ]
     },
     "execution_count": 159,
     "metadata": {},
     "output_type": "execute_result"
    }
   ],
   "source": [
    "len(ab_ab_score)"
   ]
  },
  {
   "cell_type": "code",
   "execution_count": 97,
   "metadata": {},
   "outputs": [
    {
     "data": {
      "text/plain": [
       "[[('ui', 'write', 'lostconn', 'lost', 'connection', 'to', 'peer', 'unknown')]]"
      ]
     },
     "execution_count": 97,
     "metadata": {},
     "output_type": "execute_result"
    }
   ],
   "source": [
    "with open('data.pkl','rb') as f:\n",
    "    data=pkl.load(f)\n",
    "(log_dict, synant_dict, log_patterns,event_list),(Q, sigma, delta, initialState, F_) = data\n",
    "event_list[-1:]"
   ]
  },
  {
   "cell_type": "code",
   "execution_count": 126,
   "metadata": {},
   "outputs": [
    {
     "data": {
      "text/plain": [
       "[2, 2, 2, 1, 2, 2, 1, 2, 2, 2]"
      ]
     },
     "execution_count": 126,
     "metadata": {},
     "output_type": "execute_result"
    }
   ],
   "source": [
    "model_input"
   ]
  },
  {
   "cell_type": "code",
   "execution_count": 111,
   "metadata": {},
   "outputs": [
    {
     "data": {
      "text/plain": [
       "2"
      ]
     },
     "execution_count": 111,
     "metadata": {},
     "output_type": "execute_result"
    }
   ],
   "source": [
    "event_num"
   ]
  },
  {
   "cell_type": "code",
   "execution_count": 125,
   "metadata": {},
   "outputs": [
    {
     "data": {
      "text/plain": [
       "tensor([[2., 2., 2., 2., 1., 2., 2., 1., 2., 2.]])"
      ]
     },
     "execution_count": 125,
     "metadata": {},
     "output_type": "execute_result"
    }
   ],
   "source": [
    "input_data"
   ]
  },
  {
   "cell_type": "code",
   "execution_count": 114,
   "metadata": {},
   "outputs": [],
   "source": [
    "out=event_pred_model(input_data)"
   ]
  },
  {
   "cell_type": "code",
   "execution_count": 130,
   "metadata": {},
   "outputs": [
    {
     "data": {
      "text/plain": [
       "15.6"
      ]
     },
     "execution_count": 130,
     "metadata": {},
     "output_type": "execute_result"
    }
   ],
   "source": [
    "np.average(torch.topk(out,5,dim=1)[1].numpy())"
   ]
  },
  {
   "cell_type": "code",
   "execution_count": 174,
   "metadata": {},
   "outputs": [
    {
     "name": "stdout",
     "output_type": "stream",
     "text": [
      "processing 1th file of 18 num of files\n",
      "processing 2th file of 18 num of files\n",
      "processing 3th file of 18 num of files\n",
      "processing 4th file of 18 num of files\n",
      "processing 5th file of 18 num of files\n",
      "processing 6th file of 18 num of files\n",
      "processing 7th file of 18 num of files\n",
      "processing 8th file of 18 num of files\n",
      "processing 9th file of 18 num of files\n",
      "processing 10th file of 18 num of files\n",
      "processing 11th file of 18 num of files\n",
      "processing 12th file of 18 num of files\n",
      "processing 13th file of 18 num of files\n",
      "processing 14th file of 18 num of files\n",
      "processing 15th file of 18 num of files\n",
      "processing 16th file of 18 num of files\n",
      "processing 17th file of 18 num of files\n",
      "processing 18th file of 18 num of files\n",
      "0.8777444036136757 0.9928674034901689 220677\n"
     ]
    }
   ],
   "source": [
    "right=0\n",
    "fail=0\n",
    "input_dim=10\n",
    "predicted_prob=[]\n",
    "for file_num, single_file_data in enumerate(log_data):\n",
    "    print(f'processing {file_num+1}th file of {len(log_data)} num of files')\n",
    "    model_input=[]\n",
    "    for single_log in single_file_data:\n",
    "        single_pattern=log_parser(single_log, log_dict)\n",
    "        if single_pattern==[]:continue            \n",
    "        event_num=find_event_num(single_pattern,event_list)-1\n",
    "        # Event Prediction (LSTM) calculate\n",
    "        if len(model_input)>=input_dim:\n",
    "            input_data=torch.tensor([model_input[len(model_input)-input_dim:]],dtype=torch.float32)\n",
    "            with torch.no_grad():\n",
    "                prediction=event_pred_model(input_data)\n",
    "            predicted_prob.append(np.exp(prediction[0][event_num].item()))\n",
    "            if event_num in torch.topk(prediction,5,dim=1)[1].numpy():\n",
    "                right+=1\n",
    "            else:\n",
    "                fail+=1\n",
    "            model_input=model_input[len(model_input)-input_dim+1:]\n",
    "        model_input.append(event_num)\n",
    "print(np.average(predicted_prob), right/(right+fail), right+fail)"
   ]
  },
  {
   "cell_type": "code",
   "execution_count": 16,
   "metadata": {},
   "outputs": [],
   "source": [
    "def anomaly_detection_for_file(single_log_data,log_patterns, event_list, tf_idf, synant_dict=None, threshold=[15,2], way='repeat'):\n",
    "    assert(len(log_patterns)==len(tf_idf) and len(tf_idf) ==sum([len(x) for x in event_list]))\n",
    "    num_all_log=sum(single_log[1] for single_log in log_patterns)\n",
    "    ori_all_event_num=len(event_list)\n",
    "    #print(ori_all_event_num)\n",
    "    num_all_doc=len(log_data)+2\n",
    "    recent_abnormal_score=[]\n",
    "    input_dim=10\n",
    "    model_input=[]\n",
    "    recent_event_nums=[]\n",
    "    abnormal_num=0\n",
    "    last_abnormal=None\n",
    "    for single_log in single_log_data:\n",
    "        single_pattern=log_parser(single_log, log_dict)\n",
    "        date_now=single_log['date']\n",
    "        if single_pattern==[]:continue            \n",
    "        event_num=find_event_num(single_pattern,event_list)\n",
    "        if event_num == None:\n",
    "            # Unseen Log Pattern!\n",
    "            log_patterns.append([single_pattern, 1])\n",
    "            tf_idf.append(ln(ln(num_all_log)*(num_all_doc+2)))\n",
    "            #print(len(log_patterns), len(tf_idf), sum([len(x) for x in event_list]))\n",
    "            assert(len(log_patterns)==len(tf_idf) )\n",
    "            #print(single_pattern)\n",
    "            find_event,event_list = put_new_pattern_to_event_list(single_pattern, event_list, synant_dict)\n",
    "            if find_event:\n",
    "                event_num=find_event_num(single_pattern,event_list)\n",
    "            else:\n",
    "                # Unseen Event! Make new event\n",
    "                event_list.append([single_pattern])\n",
    "                event_num=len(event_list)\n",
    "            assert(len(tf_idf) ==sum([len(x) for x in event_list]))\n",
    "        # Event Prediction (LSTM) calculate\n",
    "        if event_num>ori_all_event_num:\n",
    "            occurence_probability=1.2e-6\n",
    "        else:\n",
    "            if len(model_input)>=input_dim:\n",
    "                input_data=torch.tensor([model_input[len(model_input)-input_dim:]],dtype=torch.float32)\n",
    "                with torch.no_grad():\n",
    "                    prediction=event_pred_model(input_data)\n",
    "                occurence_probability=np.exp(prediction[0][event_num-1].item())\n",
    "                model_input=model_input[len(model_input)-input_dim+1:]\n",
    "            else:\n",
    "                occurence_probability=1\n",
    "        # Repeat Rate calculate\n",
    "        recent_event_nums=[x for x in recent_event_nums if x[0]>date_now-timedelta(minutes=10)]\n",
    "        reapeat_rate=ln((len([x for x in recent_event_nums if x[1]==event_num])+2))\n",
    "        #print(len(tf_idf), find_pattern_num(single_pattern,log_patterns)-1)\n",
    "        abnormal_score=tf_idf[find_pattern_num(single_pattern,log_patterns)-1]*(1-occurence_probability)*reapeat_rate\n",
    "        if abnormal_score > threshold[0]:\n",
    "            if way=='repeat':\n",
    "                abnormal_num+=1\n",
    "                if abnormal_num == threshold[1]:\n",
    "                    #print('abnormal score consistently over!')\n",
    "                    return True\n",
    "            if way=='time':\n",
    "                if last_abnormal:\n",
    "                    if date_now-last_abnormal < timedelta(minutes=threshold[1]):\n",
    "                        return True\n",
    "                last_abnormal=date_now\n",
    "        else:\n",
    "            abnormal_num=0\n",
    "        #recent_abnormal_score.append(abnormal_score)\n",
    "        # Update recent_event_nums and etc\n",
    "        recent_event_nums.append([date_now, event_num])\n",
    "        if event_num<=ori_all_event_num:\n",
    "            model_input.append(event_num-1)\n",
    "    return False"
   ]
  },
  {
   "cell_type": "code",
   "execution_count": 17,
   "metadata": {},
   "outputs": [
    {
     "name": "stdout",
     "output_type": "stream",
     "text": [
      "tf-idf of all patterns are calculated\n",
      "averagae of tf-idf is 7.307225476985818 and std is 9.044412287030285, max is 10.775943747261596, min is 2.1502598621583213\n",
      "average of tf is 8.26465304446208 and std is 9.241679855628224 and max is 11.61209636441463 and min is 3.0135075347943983\n",
      "average of idf is 6.6090818453729705 and std is 9.258310665967919 and max is 10.0 and min is 1.1764705882352942\n",
      "single threshold is 16\n",
      "thre: 1, acc:0.7058823529411765, f1: 0.75, prec: 0.625, rec: 0.9375 \n",
      "thre: 2, acc:0.6470588235294118, f1: 0.6666666666666665, prec: 0.6, rec: 0.75 \n",
      "thre: 3, acc:0.6176470588235294, f1: 0.5185185185185185, prec: 0.6363636363636364, rec: 0.4375 \n",
      "thre: 4, acc:0.6764705882352942, f1: 0.5217391304347825, prec: 0.8571428571428571, rec: 0.375 \n",
      "thre: 5, acc:0.6470588235294118, f1: 0.45454545454545453, prec: 0.8333333333333334, rec: 0.3125 \n",
      "thre: 7, acc:0.6470588235294118, f1: 0.4, prec: 1.0, rec: 0.25 \n",
      "thre: 10, acc:0.6470588235294118, f1: 0.4, prec: 1.0, rec: 0.25 \n",
      "single threshold is 15\n",
      "thre: 1, acc:0.7058823529411765, f1: 0.75, prec: 0.625, rec: 0.9375 \n",
      "thre: 2, acc:0.6470588235294118, f1: 0.6666666666666665, prec: 0.6, rec: 0.75 \n",
      "thre: 3, acc:0.6470588235294118, f1: 0.5714285714285715, prec: 0.6666666666666666, rec: 0.5 \n",
      "thre: 4, acc:0.6470588235294118, f1: 0.5, prec: 0.75, rec: 0.375 \n",
      "thre: 5, acc:0.6470588235294118, f1: 0.45454545454545453, prec: 0.8333333333333334, rec: 0.3125 \n",
      "thre: 7, acc:0.6470588235294118, f1: 0.4, prec: 1.0, rec: 0.25 \n",
      "thre: 10, acc:0.6470588235294118, f1: 0.4, prec: 1.0, rec: 0.25 \n",
      "single threshold is 14\n",
      "thre: 1, acc:0.7058823529411765, f1: 0.75, prec: 0.625, rec: 0.9375 \n",
      "thre: 2, acc:0.6470588235294118, f1: 0.6666666666666665, prec: 0.6, rec: 0.75 \n",
      "thre: 3, acc:0.6470588235294118, f1: 0.6000000000000001, prec: 0.6428571428571429, rec: 0.5625 \n",
      "thre: 4, acc:0.5588235294117647, f1: 0.4444444444444444, prec: 0.5454545454545454, rec: 0.375 \n",
      "thre: 5, acc:0.6764705882352942, f1: 0.5217391304347825, prec: 0.8571428571428571, rec: 0.375 \n",
      "thre: 7, acc:0.6176470588235294, f1: 0.38095238095238093, prec: 0.8, rec: 0.25 \n",
      "thre: 10, acc:0.6470588235294118, f1: 0.4, prec: 1.0, rec: 0.25 \n",
      "single threshold is 13\n",
      "thre: 1, acc:0.7058823529411765, f1: 0.75, prec: 0.625, rec: 0.9375 \n",
      "thre: 2, acc:0.6470588235294118, f1: 0.6666666666666665, prec: 0.6, rec: 0.75 \n",
      "thre: 3, acc:0.6470588235294118, f1: 0.6000000000000001, prec: 0.6428571428571429, rec: 0.5625 \n",
      "thre: 4, acc:0.6176470588235294, f1: 0.5517241379310345, prec: 0.6153846153846154, rec: 0.5 \n",
      "thre: 5, acc:0.6764705882352942, f1: 0.5217391304347825, prec: 0.8571428571428571, rec: 0.375 \n",
      "thre: 7, acc:0.6176470588235294, f1: 0.38095238095238093, prec: 0.8, rec: 0.25 \n",
      "thre: 10, acc:0.6470588235294118, f1: 0.4, prec: 1.0, rec: 0.25 \n",
      "single threshold is 12\n",
      "thre: 1, acc:0.6764705882352942, f1: 0.7317073170731707, prec: 0.6, rec: 0.9375 \n",
      "thre: 2, acc:0.6470588235294118, f1: 0.6842105263157896, prec: 0.5909090909090909, rec: 0.8125 \n",
      "thre: 3, acc:0.5882352941176471, f1: 0.5625, prec: 0.5625, rec: 0.5625 \n",
      "thre: 4, acc:0.6470588235294118, f1: 0.6000000000000001, prec: 0.6428571428571429, rec: 0.5625 \n",
      "thre: 5, acc:0.7352941176470589, f1: 0.6666666666666666, prec: 0.8181818181818182, rec: 0.5625 \n",
      "thre: 7, acc:0.6176470588235294, f1: 0.38095238095238093, prec: 0.8, rec: 0.25 \n",
      "thre: 10, acc:0.6470588235294118, f1: 0.4, prec: 1.0, rec: 0.25 \n"
     ]
    },
    {
     "ename": "NameError",
     "evalue": "name 'pd' is not defined",
     "output_type": "error",
     "traceback": [
      "\u001b[0;31m---------------------------------------------------------------------------\u001b[0m",
      "\u001b[0;31mNameError\u001b[0m                                 Traceback (most recent call last)",
      "\u001b[0;32m<ipython-input-17-ae2f002ae2fc>\u001b[0m in \u001b[0;36m<module>\u001b[0;34m()\u001b[0m\n\u001b[1;32m     32\u001b[0m         \u001b[0mtmp_f1\u001b[0m\u001b[0;34m.\u001b[0m\u001b[0mappend\u001b[0m\u001b[0;34m(\u001b[0m\u001b[0;36m2\u001b[0m\u001b[0;34m*\u001b[0m\u001b[0mprec\u001b[0m\u001b[0;34m*\u001b[0m\u001b[0mrec\u001b[0m\u001b[0;34m/\u001b[0m\u001b[0;34m(\u001b[0m\u001b[0mprec\u001b[0m\u001b[0;34m+\u001b[0m\u001b[0mrec\u001b[0m\u001b[0;34m)\u001b[0m\u001b[0;34m)\u001b[0m\u001b[0;34m\u001b[0m\u001b[0;34m\u001b[0m\u001b[0m\n\u001b[1;32m     33\u001b[0m     \u001b[0mf1_data\u001b[0m\u001b[0;34m[\u001b[0m\u001b[0mi\u001b[0m\u001b[0;34m]\u001b[0m\u001b[0;34m=\u001b[0m\u001b[0mtmp_f1\u001b[0m\u001b[0;34m\u001b[0m\u001b[0;34m\u001b[0m\u001b[0m\n\u001b[0;32m---> 34\u001b[0;31m \u001b[0mdf\u001b[0m\u001b[0;34m=\u001b[0m\u001b[0mpd\u001b[0m\u001b[0;34m.\u001b[0m\u001b[0mDataFrame\u001b[0m\u001b[0;34m(\u001b[0m\u001b[0mf1_data\u001b[0m\u001b[0;34m,\u001b[0m \u001b[0mindex\u001b[0m\u001b[0;34m=\u001b[0m\u001b[0mrepeat_index\u001b[0m\u001b[0;34m)\u001b[0m\u001b[0;34m\u001b[0m\u001b[0;34m\u001b[0m\u001b[0m\n\u001b[0m\u001b[1;32m     35\u001b[0m \u001b[0mdf\u001b[0m\u001b[0;34m.\u001b[0m\u001b[0mcolumns\u001b[0m\u001b[0;34m.\u001b[0m\u001b[0mname\u001b[0m\u001b[0;34m=\u001b[0m\u001b[0;34m'Repeat threshold'\u001b[0m\u001b[0;34m\u001b[0m\u001b[0;34m\u001b[0m\u001b[0m\n\u001b[1;32m     36\u001b[0m \u001b[0mdf\u001b[0m\u001b[0;34m=\u001b[0m\u001b[0mdf\u001b[0m\u001b[0;34m.\u001b[0m\u001b[0mrename_axis\u001b[0m\u001b[0;34m(\u001b[0m\u001b[0;34m'Single threshold'\u001b[0m\u001b[0;34m)\u001b[0m\u001b[0;34m\u001b[0m\u001b[0;34m\u001b[0m\u001b[0m\n",
      "\u001b[0;31mNameError\u001b[0m: name 'pd' is not defined"
     ]
    }
   ],
   "source": [
    "#Test f1 score\n",
    "with open('data.pkl','rb') as f:\n",
    "    data=pkl.load(f)\n",
    "(log_dict, synant_dict, log_patterns,event_list),(Q, sigma, delta, initialState, F_) = data\n",
    "tf_idf=calculate_tf_idf(log_data, log_patterns)\n",
    "ori_event_list=[x[:] for x in event_list]\n",
    "f1_data={}\n",
    "repeat_index=[1, 2, 3, 4,5,7,10]\n",
    "for i in [16, 15, 14, 13,12]:\n",
    "    print(f'single threshold is {i}')\n",
    "    tmp_f1=[]\n",
    "    for j in repeat_index:\n",
    "        threshold=[i,j]\n",
    "        tp, fp, fn, tn = 0, 0, 0, 0\n",
    "        for single_file_data in log_data:\n",
    "            #(log_dict, synant_dict, log_patterns,event_list),(Q, sigma, delta, initialState, F_) = data\n",
    "            event_list=[x[:] for x in ori_event_list]\n",
    "            if anomaly_detection_for_file(single_file_data, log_patterns[:],event_list[:],tf_idf[:], synant_dict, threshold=threshold):\n",
    "                fp+=1\n",
    "            else:\n",
    "                tn+=1\n",
    "        for single_file_data in abnorm_log_data:\n",
    "            #(log_dict, synant_dict, log_patterns,event_list),(Q, sigma, delta, initialState, F_) = data\n",
    "            event_list=[x[:] for x in ori_event_list]\n",
    "            if anomaly_detection_for_file(single_file_data, log_patterns[:],event_list[:],tf_idf[:], synant_dict, threshold=threshold):\n",
    "                tp+=1\n",
    "            else:\n",
    "                fn+=1\n",
    "        prec=tp/(tp+fp)\n",
    "        rec=tp/(tp+fn)\n",
    "        print(f'thre: {j}, acc:{(tp+tn)/(tp+tn+fp+fn)}, f1: {2*prec*rec/(prec+rec)}, prec: {prec}, rec: {rec} ')\n",
    "        tmp_f1.append(2*prec*rec/(prec+rec))\n",
    "    f1_data[i]=tmp_f1\n",
    "df=pd.DataFrame(f1_data, index=repeat_index)\n",
    "df.columns.name='Repeat threshold'\n",
    "df=df.rename_axis('Single threshold')\n",
    "sns.heatmap(df, annot=True, cmap='Blues')"
   ]
  },
  {
   "cell_type": "code",
   "execution_count": 8,
   "metadata": {},
   "outputs": [],
   "source": [
    "f1_data=[[1,2,3,4,5],[1,2,3,4,5],[1,2,3,4,5],[1,2,3,4,5]]\n",
    "repeat_index=[1, 2, 3, 4]\n",
    "\n",
    "df=pd.DataFrame(f1_data, index=repeat_index)"
   ]
  },
  {
   "cell_type": "code",
   "execution_count": 11,
   "metadata": {},
   "outputs": [
    {
     "data": {
      "text/plain": [
       "<AxesSubplot:xlabel='Value threshold', ylabel='Repeat threshold (min)'>"
      ]
     },
     "execution_count": 11,
     "metadata": {},
     "output_type": "execute_result"
    },
    {
     "data": {
      "image/png": "[encoded data removed]",
      "text/plain": [
       "<Figure size 432x288 with 2 Axes>"
      ]
     },
     "metadata": {},
     "output_type": "display_data"
    }
   ],
   "source": [
    "df.columns.name='Value threshold'\n",
    "df=df.rename_axis('Repeat threshold (min)')\n",
    "sns.heatmap(df, annot=True, cmap='Blues')"
   ]
  },
  {
   "cell_type": "code",
   "execution_count": null,
   "metadata": {},
   "outputs": [],
   "source": [
    "#Test f1 score with time\n",
    "with open('data.pkl','rb') as f:\n",
    "    data=pkl.load(f)\n",
    "(log_dict, synant_dict, log_patterns,event_list),(Q, sigma, delta, initialState, F_) = data\n",
    "tf_idf=calculate_tf_idf(log_data, log_patterns)\n",
    "ori_event_list=[x[:] for x in event_list]\n",
    "time_f1_data={}\n",
    "time_index=[3,5,7,10,20]\n",
    "for i in [16, 15, 14, 13,12]:\n",
    "    print(f'single threshold is {i}')\n",
    "    tmp_f1=[]\n",
    "    for j in time_index:\n",
    "        threshold=[i,j]\n",
    "        tp, fp, fn, tn = 0, 0, 0, 0\n",
    "        for single_file_data in log_data:\n",
    "            #(log_dict, synant_dict, log_patterns,event_list),(Q, sigma, delta, initialState, F_) = data\n",
    "            event_list=[x[:] for x in ori_event_list]\n",
    "            if anomaly_detection_for_file(single_file_data, log_patterns[:],event_list[:],tf_idf[:], synant_dict, threshold=threshold, way='time'):\n",
    "                fp+=1\n",
    "            else:\n",
    "                tn+=1\n",
    "        for single_file_data in abnorm_log_data:\n",
    "            #(log_dict, synant_dict, log_patterns,event_list),(Q, sigma, delta, initialState, F_) = data\n",
    "            event_list=[x[:] for x in ori_event_list]\n",
    "            if anomaly_detection_for_file(single_file_data, log_patterns[:],event_list[:],tf_idf[:], synant_dict, threshold=threshold, way='time'):\n",
    "                tp+=1\n",
    "            else:\n",
    "                fn+=1\n",
    "        prec=tp/(tp+fp)\n",
    "        rec=tp/(tp+fn)\n",
    "        print(f'thre: {j}, acc:{(tp+tn)/(tp+tn+fp+fn)}, f1: {2*prec*rec/(prec+rec)}, prec: {prec}, rec: {rec} ')\n",
    "        tmp_f1.append(2*prec*rec/(prec+rec))\n",
    "    time_f1_data[i]=tmp_f1\n",
    "time_df=pd.DataFrame(time_f1_data, index=time_index)\n",
    "time_df.columns.name='Value threshold'\n",
    "time_df=time_df.rename_axis('Time threshold')\n",
    "sns.heatmap(time_df, annot=True, cmap='Blues')"
   ]
  },
  {
   "cell_type": "code",
   "execution_count": 196,
   "metadata": {},
   "outputs": [
    {
     "data": {
      "text/plain": [
       "(3.4791250625845306e-06, 13.654743960574113, -8.89486720188809)"
      ]
     },
     "execution_count": 196,
     "metadata": {},
     "output_type": "execute_result"
    }
   ],
   "source": [
    "normal_gradient=np.gradient(abnormal_score_list)\n",
    "np.average(normal_gradient), np.max(normal_gradient), np.min(normal_gradient)"
   ]
  },
  {
   "cell_type": "code",
   "execution_count": 212,
   "metadata": {},
   "outputs": [
    {
     "data": {
      "text/plain": [
       "(array([1.1000e+01, 7.6500e+02, 1.0530e+03, 2.2240e+03, 1.1583e+04,\n",
       "        7.1370e+03, 8.8100e+03, 1.3765e+05, 2.1688e+04, 1.1506e+04,\n",
       "        5.0010e+03, 8.6290e+03, 2.4740e+03, 1.5670e+03, 7.4300e+02,\n",
       "        4.0000e+00, 2.0000e+00, 1.0000e+00, 2.0000e+00, 1.0000e+00]),\n",
       " array([-8.8948672 , -7.76738664, -6.63990609, -5.51242553, -4.38494497,\n",
       "        -3.25746441, -2.12998385, -1.0025033 ,  0.12497726,  1.25245782,\n",
       "         2.37993838,  3.50741894,  4.6348995 ,  5.76238005,  6.88986061,\n",
       "         8.01734117,  9.14482173, 10.27230229, 11.39978284, 12.5272634 ,\n",
       "        13.65474396]),\n",
       " <BarContainer object of 20 artists>)"
      ]
     },
     "execution_count": 212,
     "metadata": {},
     "output_type": "execute_result"
    },
    {
     "data": {
      "image/png": "[encoded data removed]",
      "text/plain": [
       "<Figure size 432x288 with 1 Axes>"
      ]
     },
     "metadata": {},
     "output_type": "display_data"
    }
   ],
   "source": [
    "plt.hist(normal_gradient,bins=20)\n"
   ]
  },
  {
   "cell_type": "code",
   "execution_count": 199,
   "metadata": {},
   "outputs": [
    {
     "data": {
      "text/plain": [
       "(220851,)"
      ]
     },
     "execution_count": 199,
     "metadata": {},
     "output_type": "execute_result"
    }
   ],
   "source": [
    "normal_gradient.shape"
   ]
  },
  {
   "cell_type": "code",
   "execution_count": 200,
   "metadata": {},
   "outputs": [
    {
     "data": {
      "text/plain": [
       "(1.4372101419168591e-05, 16.142659768437444, -15.799190519366812)"
      ]
     },
     "execution_count": 200,
     "metadata": {},
     "output_type": "execute_result"
    }
   ],
   "source": [
    "abnormal_gradient=np.gradient(ab_ab_score)\n",
    "np.average(abnormal_gradient), np.max(abnormal_gradient), np.min(abnormal_gradient)"
   ]
  },
  {
   "cell_type": "code",
   "execution_count": 201,
   "metadata": {},
   "outputs": [
    {
     "data": {
      "text/plain": [
       "<matplotlib.collections.PathCollection at 0x7fe911f7e4a8>"
      ]
     },
     "execution_count": 201,
     "metadata": {},
     "output_type": "execute_result"
    },
    {
     "data": {
      "image/png": "[encoded data removed]",
      "text/plain": [
       "<Figure size 432x288 with 1 Axes>"
      ]
     },
     "metadata": {},
     "output_type": "display_data"
    }
   ],
   "source": [
    "plt.scatter( [x for x in range(len(abnormal_gradient))], abnormal_gradient, s=0.1)"
   ]
  },
  {
   "cell_type": "code",
   "execution_count": 203,
   "metadata": {},
   "outputs": [
    {
     "data": {
      "text/plain": [
       "(0.8582192683843062, 0.0, -0.5802815277205227, 0.4069124552791521)"
      ]
     },
     "execution_count": 203,
     "metadata": {},
     "output_type": "execute_result"
    }
   ],
   "source": [
    "normal_gradient[10], normal_gradient[11], normal_gradient[12], normal_gradient[13]"
   ]
  },
  {
   "cell_type": "code",
   "execution_count": 204,
   "metadata": {},
   "outputs": [
    {
     "data": {
      "text/plain": [
       "(0.06757352497117987,\n",
       " 1.7164385367686124,\n",
       " 0.06757352497117987,\n",
       " 0.555875481327567)"
      ]
     },
     "execution_count": 204,
     "metadata": {},
     "output_type": "execute_result"
    }
   ],
   "source": [
    "abnormal_score_list[10],abnormal_score_list[11], abnormal_score_list[12], abnormal_score_list[13]"
   ]
  },
  {
   "cell_type": "code",
   "execution_count": 213,
   "metadata": {},
   "outputs": [
    {
     "data": {
      "text/plain": [
       "(array([5.0000e+00, 6.3000e+01, 2.5300e+02, 2.6410e+03, 3.5800e+02,\n",
       "        3.0160e+03, 3.0300e+03, 1.2109e+04, 3.1596e+04, 1.2399e+05,\n",
       "        4.7310e+04, 2.4057e+04, 6.4720e+03, 4.7540e+03, 7.1000e+02,\n",
       "        5.5620e+03, 1.0160e+03, 4.9000e+01, 6.1000e+01, 7.0000e+00]),\n",
       " array([-15.79919052, -14.202098  , -12.60500549, -11.00791298,\n",
       "         -9.41082046,  -7.81372795,  -6.21663543,  -4.61954292,\n",
       "         -3.0224504 ,  -1.42535789,   0.17173462,   1.76882714,\n",
       "          3.36591965,   4.96301217,   6.56010468,   8.1571972 ,\n",
       "          9.75428971,  11.35138223,  12.94847474,  14.54556725,\n",
       "         16.14265977]),\n",
       " <BarContainer object of 20 artists>)"
      ]
     },
     "execution_count": 213,
     "metadata": {},
     "output_type": "execute_result"
    },
    {
     "data": {
      "image/png": "[encoded data removed]",
      "text/plain": [
       "<Figure size 432x288 with 1 Axes>"
      ]
     },
     "metadata": {},
     "output_type": "display_data"
    }
   ],
   "source": [
    "plt.hist(abnormal_gradient,bins=20)"
   ]
  },
  {
   "cell_type": "code",
   "execution_count": 218,
   "metadata": {},
   "outputs": [],
   "source": [
    "from scipy import stats\n",
    "def calculate_confidence_interv(data):\n",
    "    population_mean = np.mean(data)\n",
    "    population_stddev = np.std(data, ddof=1)  # ddof=1은 자유도를 1로 설정합니다 (표본 표준편차 계산)\n",
    "\n",
    "    # 신뢰수준과 자유도 설정\n",
    "    confidence_level = 0.99\n",
    "    degrees_of_freedom = len(data) - 1\n",
    "\n",
    "    # t 분포에서의 critical value 계산\n",
    "    t_critical = stats.t.ppf((1 + confidence_level) / 2, df=degrees_of_freedom)\n",
    "\n",
    "    # 신뢰구간 계산\n",
    "    margin_of_error = t_critical * (population_stddev / np.sqrt(len(data)))\n",
    "    confidence_interval = (population_mean - margin_of_error, population_mean + margin_of_error)\n",
    "    return confidence_interval\n"
   ]
  },
  {
   "cell_type": "code",
   "execution_count": 219,
   "metadata": {},
   "outputs": [
    {
     "data": {
      "text/plain": [
       "(-0.010064404305291156, 0.010071362555416324)"
      ]
     },
     "execution_count": 219,
     "metadata": {},
     "output_type": "execute_result"
    }
   ],
   "source": [
    "calculate_confidence_interv(normal_gradient)"
   ]
  },
  {
   "cell_type": "code",
   "execution_count": 220,
   "metadata": {},
   "outputs": [
    {
     "data": {
      "text/plain": [
       "(-0.013492968624144976, 0.013521712826983313)"
      ]
     },
     "execution_count": 220,
     "metadata": {},
     "output_type": "execute_result"
    }
   ],
   "source": [
    "calculate_confidence_interv(abnormal_gradient)"
   ]
  },
  {
   "cell_type": "code",
   "execution_count": 236,
   "metadata": {},
   "outputs": [
    {
     "data": {
      "text/plain": [
       "(-7.752096748172087, 7.78008255518941)"
      ]
     },
     "execution_count": 236,
     "metadata": {},
     "output_type": "execute_result"
    }
   ],
   "source": [
    "np.percentile(normal_gradient, 0.01), np.percentile(normal_gradient, 99.99 )"
   ]
  },
  {
   "cell_type": "code",
   "execution_count": 122,
   "metadata": {},
   "outputs": [
    {
     "ename": "NameError",
     "evalue": "name 'abnormal_score_list' is not defined",
     "output_type": "error",
     "traceback": [
      "\u001b[0;31m---------------------------------------------------------------------------\u001b[0m",
      "\u001b[0;31mNameError\u001b[0m                                 Traceback (most recent call last)",
      "\u001b[0;32m<ipython-input-122-27f7be9c284b>\u001b[0m in \u001b[0;36m<module>\u001b[0;34m()\u001b[0m\n\u001b[0;32m----> 1\u001b[0;31m \u001b[0mnp\u001b[0m\u001b[0;34m.\u001b[0m\u001b[0mpercentile\u001b[0m\u001b[0;34m(\u001b[0m\u001b[0mabnormal_score_list\u001b[0m\u001b[0;34m,\u001b[0m \u001b[0;36m99.9\u001b[0m \u001b[0;34m)\u001b[0m\u001b[0;34m\u001b[0m\u001b[0;34m\u001b[0m\u001b[0m\n\u001b[0m",
      "\u001b[0;31mNameError\u001b[0m: name 'abnormal_score_list' is not defined"
     ]
    }
   ],
   "source": [
    "np.percentile(abnormal_score_list, 99.9 )"
   ]
  },
  {
   "cell_type": "code",
   "execution_count": 234,
   "metadata": {},
   "outputs": [
    {
     "data": {
      "text/plain": [
       "(0.001621972337566337, 32.268030446678125)"
      ]
     },
     "execution_count": 234,
     "metadata": {},
     "output_type": "execute_result"
    }
   ],
   "source": [
    "np.percentile(ab_ab_score, 1), np.percentile(ab_ab_score, 99.9 )"
   ]
  },
  {
   "cell_type": "code",
   "execution_count": 238,
   "metadata": {},
   "outputs": [
    {
     "data": {
      "text/plain": [
       "(-10.388263903482756, 9.526717687721458)"
      ]
     },
     "execution_count": 238,
     "metadata": {},
     "output_type": "execute_result"
    }
   ],
   "source": [
    "np.percentile(abnormal_gradient, 1), np.percentile(abnormal_gradient, 99 )"
   ]
  },
  {
   "cell_type": "code",
   "execution_count": 269,
   "metadata": {},
   "outputs": [],
   "source": [
    "from log_parser_lib import put_new_pattern_to_event_list\n",
    "a=put_new_pattern_to_event_list(single_pattern, event_list, synant_dict)"
   ]
  },
  {
   "cell_type": "code",
   "execution_count": 15,
   "metadata": {},
   "outputs": [],
   "source": [
    "single_pattern=['pvidb', 'attribute', '[UNK]', 'support', '[UNK]', 'not', 'present', 'in', 'db']"
   ]
  },
  {
   "cell_type": "code",
   "execution_count": 13,
   "metadata": {},
   "outputs": [],
   "source": [
    "edit_algo=lambda x,y:edit_dist_synatn(x,y,synant_dict) if synant_dict else edit_dist"
   ]
  },
  {
   "cell_type": "code",
   "execution_count": 22,
   "metadata": {},
   "outputs": [
    {
     "data": {
      "text/plain": [
       "0"
      ]
     },
     "execution_count": 22,
     "metadata": {},
     "output_type": "execute_result"
    }
   ],
   "source": [
    "edit_algo(single_pattern,single_pattern)"
   ]
  },
  {
   "cell_type": "code",
   "execution_count": 115,
   "metadata": {},
   "outputs": [
    {
     "name": "stdout",
     "output_type": "stream",
     "text": [
      "tf-idf of all patterns are calculated\n",
      "averagae of tf-idf is 3.7691722434651798 and std is 0.930486217343459, max is 4.754632437814264, min is 1.531177401912\n",
      "average of tf is 8.26465304446208 and std is 9.241679855628224 and max is 11.61209636441463 and min is 3.0135075347943983\n",
      "average of idf is 6.6090818453729705 and std is 9.258310665967919 and max is 10.0 and min is 1.1764705882352942\n"
     ]
    }
   ],
   "source": [
    "with open('data.pkl','rb') as f:\n",
    "    data=pkl.load(f)\n",
    "(log_dict, synant_dict, log_patterns,event_list),(Q, sigma, delta, initialState, F_) = data\n",
    "tf_idf=calculate_tf_idf(log_data, log_patterns)"
   ]
  },
  {
   "cell_type": "code",
   "execution_count": 82,
   "metadata": {},
   "outputs": [
    {
     "data": {
      "text/plain": [
       "177"
      ]
     },
     "execution_count": 82,
     "metadata": {},
     "output_type": "execute_result"
    }
   ],
   "source": [
    "len(tf_idf)"
   ]
  },
  {
   "cell_type": "code",
   "execution_count": 81,
   "metadata": {},
   "outputs": [
    {
     "data": {
      "text/plain": [
       "177"
      ]
     },
     "execution_count": 81,
     "metadata": {},
     "output_type": "execute_result"
    }
   ],
   "source": [
    "len(log_patterns)"
   ]
  },
  {
   "cell_type": "code",
   "execution_count": 89,
   "metadata": {},
   "outputs": [
    {
     "data": {
      "text/plain": [
       "50"
      ]
     },
     "execution_count": 89,
     "metadata": {},
     "output_type": "execute_result"
    }
   ],
   "source": [
    "len(event_list)"
   ]
  },
  {
   "cell_type": "code",
   "execution_count": 116,
   "metadata": {},
   "outputs": [
    {
     "data": {
      "text/plain": [
       "177"
      ]
     },
     "execution_count": 116,
     "metadata": {},
     "output_type": "execute_result"
    }
   ],
   "source": [
    "sum([len(x) for x in event_list])"
   ]
  },
  {
   "cell_type": "code",
   "execution_count": 114,
   "metadata": {},
   "outputs": [
    {
     "data": {
      "text/plain": [
       "182"
      ]
     },
     "execution_count": 114,
     "metadata": {},
     "output_type": "execute_result"
    }
   ],
   "source": [
    "sum([len(x) for x in ori_event_list])"
   ]
  },
  {
   "cell_type": "code",
   "execution_count": 75,
   "metadata": {},
   "outputs": [
    {
     "data": {
      "text/plain": [
       "False"
      ]
     },
     "execution_count": 75,
     "metadata": {},
     "output_type": "execute_result"
    }
   ],
   "source": [
    "event_list[29][6] in [x[0] for x in log_patterns]"
   ]
  },
  {
   "cell_type": "code",
   "execution_count": 112,
   "metadata": {
    "scrolled": true
   },
   "outputs": [],
   "source": [
    "ori_event_list=[x[:] for x in event_list]"
   ]
  },
  {
   "cell_type": "code",
   "execution_count": 108,
   "metadata": {},
   "outputs": [],
   "source": [
    "event_list=[x[:] for x in ori_event_list]"
   ]
  },
  {
   "cell_type": "code",
   "execution_count": 128,
   "metadata": {},
   "outputs": [
    {
     "data": {
      "text/plain": [
       "[[0, 1, 2, 3], [0, 1, 2, 3], [0, 1, 2, 3]]"
      ]
     },
     "execution_count": 128,
     "metadata": {},
     "output_type": "execute_result"
    }
   ],
   "source": [
    "a=[]\n",
    "for i in range(3):\n",
    "    b=[]\n",
    "    for j in range(4):\n",
    "        b.append(j)\n",
    "    a.append(b)\n",
    "a"
   ]
  },
  {
   "cell_type": "code",
   "execution_count": 139,
   "metadata": {},
   "outputs": [
    {
     "data": {
      "text/plain": [
       "<AxesSubplot:xlabel='Repeat threshold', ylabel='Single threshold'>"
      ]
     },
     "execution_count": 139,
     "metadata": {},
     "output_type": "execute_result"
    },
    {
     "data": {
      "image/png": "[encoded data removed]",
      "text/plain": [
       "<Figure size 432x288 with 2 Axes>"
      ]
     },
     "metadata": {},
     "output_type": "display_data"
    }
   ],
   "source": [
    "df=pd.DataFrame(f1_data, index=repeat_index)\n",
    "df.columns.name='Repeat threshold'\n",
    "df=df.rename_axis('Single threshold')\n",
    "sns.heatmap(df, annot=True, cmap='Blues')"
   ]
  },
  {
   "cell_type": "code",
   "execution_count": 126,
   "metadata": {},
   "outputs": [
    {
     "name": "stdout",
     "output_type": "stream",
     "text": [
      "WARNING: pip is being invoked by an old script wrapper. This will fail in a future version of pip.\n",
      "Please see https://github.com/pypa/pip/issues/5599 for advice on fixing the underlying issue.\n",
      "To avoid this problem you can invoke Python with '-m pip' instead of running pip directly.\n",
      "Defaulting to user installation because normal site-packages is not writeable\n",
      "Collecting seaborn\n",
      "  Downloading seaborn-0.11.2-py3-none-any.whl (292 kB)\n",
      "     |████████████████████████████████| 292 kB 5.4 MB/s            \n",
      "\u001b[?25hRequirement already satisfied: scipy>=1.0 in /home/dpnm/.local/lib/python3.6/site-packages (from seaborn) (1.5.4)\n",
      "Requirement already satisfied: numpy>=1.15 in /home/dpnm/.local/lib/python3.6/site-packages (from seaborn) (1.19.5)\n",
      "Requirement already satisfied: matplotlib>=2.2 in /home/dpnm/.local/lib/python3.6/site-packages (from seaborn) (3.3.4)\n",
      "Requirement already satisfied: pandas>=0.23 in /home/dpnm/.local/lib/python3.6/site-packages (from seaborn) (1.1.5)\n",
      "Requirement already satisfied: cycler>=0.10 in /home/dpnm/.local/lib/python3.6/site-packages (from matplotlib>=2.2->seaborn) (0.11.0)\n",
      "Requirement already satisfied: python-dateutil>=2.1 in /home/dpnm/.local/lib/python3.6/site-packages (from matplotlib>=2.2->seaborn) (2.8.2)\n",
      "Requirement already satisfied: kiwisolver>=1.0.1 in /home/dpnm/.local/lib/python3.6/site-packages (from matplotlib>=2.2->seaborn) (1.3.1)\n",
      "Requirement already satisfied: pillow>=6.2.0 in /home/dpnm/.local/lib/python3.6/site-packages (from matplotlib>=2.2->seaborn) (8.4.0)\n",
      "Requirement already satisfied: pyparsing!=2.0.4,!=2.1.2,!=2.1.6,>=2.0.3 in /home/dpnm/.local/lib/python3.6/site-packages (from matplotlib>=2.2->seaborn) (3.1.1)\n",
      "Requirement already satisfied: pytz>=2017.2 in /home/dpnm/.local/lib/python3.6/site-packages (from pandas>=0.23->seaborn) (2023.3.post1)\n",
      "Requirement already satisfied: six>=1.5 in /home/dpnm/.local/lib/python3.6/site-packages (from python-dateutil>=2.1->matplotlib>=2.2->seaborn) (1.16.0)\n",
      "Installing collected packages: seaborn\n",
      "Successfully installed seaborn-0.11.2\n"
     ]
    }
   ],
   "source": [
    "!pip3 install seaborn"
   ]
  },
  {
   "cell_type": "code",
   "execution_count": 130,
   "metadata": {},
   "outputs": [],
   "source": [
    "import pandas as pd\n"
   ]
  },
  {
   "cell_type": "code",
   "execution_count": 148,
   "metadata": {},
   "outputs": [
    {
     "data": {
      "text/plain": [
       "True"
      ]
     },
     "execution_count": 148,
     "metadata": {},
     "output_type": "execute_result"
    }
   ],
   "source": [
    "single_log['date'] - single_log['date'] < timedelta(minutes=5)"
   ]
  },
  {
   "cell_type": "code",
   "execution_count": null,
   "metadata": {},
   "outputs": [],
   "source": []
  }
 ],
 "metadata": {
  "kernelspec": {
   "display_name": "Python 3",
   "language": "python",
   "name": "python3"
  },
  "language_info": {
   "codemirror_mode": {
    "name": "ipython",
    "version": 3
   },
   "file_extension": ".py",
   "mimetype": "text/x-python",
   "name": "python",
   "nbconvert_exporter": "python",
   "pygments_lexer": "ipython3",
   "version": "3.6.9"
  }
 },
 "nbformat": 4,
 "nbformat_minor": 2
}
